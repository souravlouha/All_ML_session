{
  "nbformat": 4,
  "nbformat_minor": 0,
  "metadata": {
    "colab": {
      "provenance": [],
      "authorship_tag": "ABX9TyPNdPLO1HpPe+MuzYvsLBKW",
      "include_colab_link": true
    },
    "kernelspec": {
      "name": "python3",
      "display_name": "Python 3"
    },
    "language_info": {
      "name": "python"
    }
  },
  "cells": [
    {
      "cell_type": "markdown",
      "metadata": {
        "id": "view-in-github",
        "colab_type": "text"
      },
      "source": [
        "<a href=\"https://colab.research.google.com/github/souravlouha/All_ML_session/blob/main/Array_Create_in_Numpy.ipynb\" target=\"_parent\"><img src=\"https://colab.research.google.com/assets/colab-badge.svg\" alt=\"Open In Colab\"/></a>"
      ]
    },
    {
      "cell_type": "code",
      "execution_count": null,
      "metadata": {
        "id": "xYRL-urRpO75"
      },
      "outputs": [],
      "source": [
        "import numpy as np"
      ]
    },
    {
      "cell_type": "markdown",
      "source": [
        "create 0 dimentional array\n"
      ],
      "metadata": {
        "id": "x6UQ02bHvBTp"
      }
    },
    {
      "cell_type": "code",
      "source": [
        "arrd0 = np.array(42)"
      ],
      "metadata": {
        "id": "OQ_QzlFOvQ5E"
      },
      "execution_count": null,
      "outputs": []
    },
    {
      "cell_type": "code",
      "source": [
        "print(arrd0) #ai khane akti matro single element store kora holo , ar akti 0 dimentional array create kora holo\n",
        "print(arrd0.ndim)#object that returns the number of dimensions (axes) of the array"
      ],
      "metadata": {
        "colab": {
          "base_uri": "https://localhost:8080/"
        },
        "id": "tfT4IudfvUoY",
        "outputId": "f039e0a7-5a33-4451-f553-ebff481eb7dc"
      },
      "execution_count": null,
      "outputs": [
        {
          "output_type": "stream",
          "name": "stdout",
          "text": [
            "42\n",
            "0\n"
          ]
        }
      ]
    },
    {
      "cell_type": "markdown",
      "source": [
        "creat 1 dimentional array"
      ],
      "metadata": {
        "id": "aDYgF9vnvtuk"
      }
    },
    {
      "cell_type": "code",
      "source": [
        "arrd1 = np.array([1, 2, 3, 4, 5])\n",
        "\n",
        "print(arrd1)\n",
        "print(arrd1.ndim)#object that returns the number of dimensions (axes) of the array"
      ],
      "metadata": {
        "colab": {
          "base_uri": "https://localhost:8080/"
        },
        "id": "N1rhp7Jxvail",
        "outputId": "77943c3d-9c2e-43e4-e0d2-538d170ea634"
      },
      "execution_count": null,
      "outputs": [
        {
          "output_type": "stream",
          "name": "stdout",
          "text": [
            "[1 2 3 4 5]\n",
            "1\n"
          ]
        }
      ]
    },
    {
      "cell_type": "markdown",
      "source": [
        "creat 2 dimentional array"
      ],
      "metadata": {
        "id": "Y-pDQvJWxwxw"
      }
    },
    {
      "cell_type": "code",
      "source": [
        "arrd2 =np.array([[1,2,3],[2,3,4]])\n",
        "\n",
        "print(arrd2)\n",
        "print(arrd2.ndim)"
      ],
      "metadata": {
        "colab": {
          "base_uri": "https://localhost:8080/"
        },
        "id": "JBNKD-j2wNra",
        "outputId": "c4d00ab8-f07b-435a-a3d0-40b7c308129c"
      },
      "execution_count": null,
      "outputs": [
        {
          "output_type": "stream",
          "name": "stdout",
          "text": [
            "[[1 2 3]\n",
            " [2 3 4]]\n",
            "2\n"
          ]
        }
      ]
    },
    {
      "cell_type": "markdown",
      "source": [
        "creat 3 dimentional array"
      ],
      "metadata": {
        "id": "8jLBxvVxx34h"
      }
    },
    {
      "cell_type": "code",
      "source": [
        "arrd3 = np.array([[[1,2,3],[4,5,6],[7,8,9]]])\n",
        "\n",
        "print(arrd3)\n",
        "print(arrd3.ndim)"
      ],
      "metadata": {
        "colab": {
          "base_uri": "https://localhost:8080/"
        },
        "id": "eBsaaftcwt0o",
        "outputId": "ff30ee05-44af-4ca7-c62c-b6ca9cf3baee"
      },
      "execution_count": null,
      "outputs": [
        {
          "output_type": "stream",
          "name": "stdout",
          "text": [
            "[[[1 2 3]\n",
            "  [4 5 6]\n",
            "  [7 8 9]]]\n",
            "3\n"
          ]
        }
      ]
    },
    {
      "cell_type": "code",
      "source": [
        "# ndim show korbe , array ra dimention koto .\n",
        "# shape show korbe koyta element store ache tate .\n",
        "# ndmin is a parameter in NumPy used when creating arrays. It specifies the minimum number of dimensions that the resulting array should have.\n",
        "      # For example, ndmin =3 koreo 3 dimentional array create kora jete pari ."
      ],
      "metadata": {
        "id": "NvZL6jq8xrrN"
      },
      "execution_count": null,
      "outputs": []
    },
    {
      "cell_type": "code",
      "source": [
        "d7 = np.array([1,2,3],ndmin=7) # ndmin ar help niye 7 dimention ar akta array create kora holo\n",
        "d7"
      ],
      "metadata": {
        "colab": {
          "base_uri": "https://localhost:8080/"
        },
        "id": "LLsi29m99WJs",
        "outputId": "a6cf3a77-2c9c-4797-e46f-fe3ada6cffa6"
      },
      "execution_count": null,
      "outputs": [
        {
          "output_type": "execute_result",
          "data": {
            "text/plain": [
              "array([[[[[[[1, 2, 3]]]]]]])"
            ]
          },
          "metadata": {},
          "execution_count": 10
        }
      ]
    },
    {
      "cell_type": "code",
      "source": [
        "d7.ndim"
      ],
      "metadata": {
        "colab": {
          "base_uri": "https://localhost:8080/"
        },
        "id": "cuFwk2L1-EK0",
        "outputId": "553121fb-455f-492e-8e53-9babdad6f301"
      },
      "execution_count": null,
      "outputs": [
        {
          "output_type": "execute_result",
          "data": {
            "text/plain": [
              "7"
            ]
          },
          "metadata": {},
          "execution_count": 13
        }
      ]
    },
    {
      "cell_type": "code",
      "source": [
        "d7.shape"
      ],
      "metadata": {
        "colab": {
          "base_uri": "https://localhost:8080/"
        },
        "id": "9IyjRwz6-h0_",
        "outputId": "aaa0e396-36bf-4e6b-bff9-bf5b4375fdfa"
      },
      "execution_count": null,
      "outputs": [
        {
          "output_type": "execute_result",
          "data": {
            "text/plain": [
              "(1, 1, 1, 1, 1, 1, 3)"
            ]
          },
          "metadata": {},
          "execution_count": 12
        }
      ]
    },
    {
      "cell_type": "markdown",
      "source": [
        "Indexing of array in Numpy"
      ],
      "metadata": {
        "id": "kbJFPT_K_I8v"
      }
    },
    {
      "cell_type": "code",
      "source": [
        "arrd1"
      ],
      "metadata": {
        "colab": {
          "base_uri": "https://localhost:8080/"
        },
        "id": "TaIJn7cbAEuL",
        "outputId": "e9a58731-c0ad-4033-f2fa-a11a6c2dcb5d"
      },
      "execution_count": null,
      "outputs": [
        {
          "output_type": "execute_result",
          "data": {
            "text/plain": [
              "array([1, 2, 3, 4, 5])"
            ]
          },
          "metadata": {},
          "execution_count": 27
        }
      ]
    },
    {
      "cell_type": "code",
      "source": [
        "arrd1[1] # array 1 ar , bhetore thaka element gulo ke indexing kora hochhe"
      ],
      "metadata": {
        "colab": {
          "base_uri": "https://localhost:8080/"
        },
        "id": "kVMUpWyzAOxy",
        "outputId": "7f851eb0-32ef-40c9-84dd-9574dbab6055"
      },
      "execution_count": null,
      "outputs": [
        {
          "output_type": "execute_result",
          "data": {
            "text/plain": [
              "2"
            ]
          },
          "metadata": {},
          "execution_count": 28
        }
      ]
    },
    {
      "cell_type": "code",
      "source": [
        "arrd1[1:4]"
      ],
      "metadata": {
        "colab": {
          "base_uri": "https://localhost:8080/"
        },
        "id": "oCa9BirUBriW",
        "outputId": "e3e6e4d7-fe15-4ed1-e976-4e5d862d0a35"
      },
      "execution_count": null,
      "outputs": [
        {
          "output_type": "execute_result",
          "data": {
            "text/plain": [
              "array([2, 3, 4])"
            ]
          },
          "metadata": {},
          "execution_count": 30
        }
      ]
    },
    {
      "cell_type": "code",
      "source": [
        "# array 2\n",
        "arrd2"
      ],
      "metadata": {
        "colab": {
          "base_uri": "https://localhost:8080/"
        },
        "id": "9zwGh9irCA-b",
        "outputId": "3988ddcf-7280-4bd0-dfaa-7a31239bc3ac"
      },
      "execution_count": null,
      "outputs": [
        {
          "output_type": "execute_result",
          "data": {
            "text/plain": [
              "array([[1, 2, 3],\n",
              "       [2, 3, 4]])"
            ]
          },
          "metadata": {},
          "execution_count": 34
        }
      ]
    },
    {
      "cell_type": "code",
      "source": [
        "arrd2[1,1:3] # array 2 ar ; 1 represent korche row number ta ke , ar pore 1:3 represents korche slicing,\n"
      ],
      "metadata": {
        "colab": {
          "base_uri": "https://localhost:8080/"
        },
        "id": "X94uV3Z2CHeJ",
        "outputId": "a4aebb6e-16a8-4668-d264-25b7ca895277"
      },
      "execution_count": null,
      "outputs": [
        {
          "output_type": "execute_result",
          "data": {
            "text/plain": [
              "array([3, 4])"
            ]
          },
          "metadata": {},
          "execution_count": 40
        }
      ]
    },
    {
      "cell_type": "code",
      "source": [
        "arrd2[0,0:3]"
      ],
      "metadata": {
        "colab": {
          "base_uri": "https://localhost:8080/"
        },
        "id": "Ug5QEbwCD-KU",
        "outputId": "4b35ed70-8d5d-4d8e-abae-bc6f38af32ba"
      },
      "execution_count": null,
      "outputs": [
        {
          "output_type": "execute_result",
          "data": {
            "text/plain": [
              "array([1, 2, 3])"
            ]
          },
          "metadata": {},
          "execution_count": 41
        }
      ]
    },
    {
      "cell_type": "code",
      "source": [
        "# 2 array te value change kora hobe\n",
        "\n",
        "arrd2[1,2]=1000\n",
        "arrd2"
      ],
      "metadata": {
        "colab": {
          "base_uri": "https://localhost:8080/"
        },
        "id": "OzlZvve7EF8-",
        "outputId": "4535ee68-3af6-4f6d-caeb-28f8eb7fa68e"
      },
      "execution_count": null,
      "outputs": [
        {
          "output_type": "execute_result",
          "data": {
            "text/plain": [
              "array([[   1,    2,    3],\n",
              "       [   2,    3, 1000]])"
            ]
          },
          "metadata": {},
          "execution_count": 42
        }
      ]
    },
    {
      "cell_type": "code",
      "source": [
        "D3 =np.array([[[1,2,3],[2,3,4]],[[11,25,34],[71,26,43]],[[753,841,964],[957,864,426]]])\n",
        "D3"
      ],
      "metadata": {
        "colab": {
          "base_uri": "https://localhost:8080/"
        },
        "id": "sKVhJZA2_m6t",
        "outputId": "f1a52205-0515-4c42-8a92-c92ab8847d10"
      },
      "execution_count": null,
      "outputs": [
        {
          "output_type": "execute_result",
          "data": {
            "text/plain": [
              "array([[[  1,   2,   3],\n",
              "        [  2,   3,   4]],\n",
              "\n",
              "       [[ 11,  25,  34],\n",
              "        [ 71,  26,  43]],\n",
              "\n",
              "       [[753, 841, 964],\n",
              "        [957, 864, 426]]])"
            ]
          },
          "metadata": {},
          "execution_count": 65
        }
      ]
    },
    {
      "cell_type": "code",
      "source": [
        "D3.shape # it means 3 te total 2d array ache ar tate 2 to kore row ar tate 3 te kore element ache"
      ],
      "metadata": {
        "colab": {
          "base_uri": "https://localhost:8080/"
        },
        "id": "XibOGWp9GbFn",
        "outputId": "4decd165-5553-4b0b-b026-81d194662156"
      },
      "execution_count": null,
      "outputs": [
        {
          "output_type": "execute_result",
          "data": {
            "text/plain": [
              "(3, 2, 3)"
            ]
          },
          "metadata": {},
          "execution_count": 55
        }
      ]
    },
    {
      "cell_type": "code",
      "source": [
        "D3.ndim # dimention"
      ],
      "metadata": {
        "colab": {
          "base_uri": "https://localhost:8080/"
        },
        "id": "cMOWqYXEHK4F",
        "outputId": "c3fa3e6d-0c41-4329-f25a-17a36cf7ce0b"
      },
      "execution_count": null,
      "outputs": [
        {
          "output_type": "execute_result",
          "data": {
            "text/plain": [
              "3"
            ]
          },
          "metadata": {},
          "execution_count": 56
        }
      ]
    },
    {
      "cell_type": "code",
      "source": [
        "# value change kora hobe\n",
        "D3[1,1,1]=1000\n",
        "D3"
      ],
      "metadata": {
        "colab": {
          "base_uri": "https://localhost:8080/"
        },
        "id": "kg435AVYIGFd",
        "outputId": "07d43039-b9d2-40ad-c259-45e7c4f2b203"
      },
      "execution_count": null,
      "outputs": [
        {
          "output_type": "execute_result",
          "data": {
            "text/plain": [
              "array([[[   1,    2,    3],\n",
              "        [   2,    3,    4]],\n",
              "\n",
              "       [[  11,   25,   34],\n",
              "        [  71, 1000,   43]],\n",
              "\n",
              "       [[ 753,  841,  964],\n",
              "        [ 957,  864,  426]]])"
            ]
          },
          "metadata": {},
          "execution_count": 69
        }
      ]
    },
    {
      "cell_type": "code",
      "source": [
        "# kono array ar, modhhe thaka element gulo, extract kore print kora jete pare , 2 bhabe/ methods kora jete pare ; first holo loop ar help niye , second function use kore ."
      ],
      "metadata": {
        "id": "IYGO9nnNIwoM"
      },
      "execution_count": null,
      "outputs": []
    },
    {
      "cell_type": "code",
      "source": [
        "for i in D3:  # ai gulo loop diye kora holo\n",
        "  for j in i:\n",
        "    print(j)"
      ],
      "metadata": {
        "colab": {
          "base_uri": "https://localhost:8080/"
        },
        "id": "b4NEVijAJ8y7",
        "outputId": "9a7aa371-ed31-48fc-fc7d-adee7f25b67b"
      },
      "execution_count": null,
      "outputs": [
        {
          "output_type": "stream",
          "name": "stdout",
          "text": [
            "[1 2 3]\n",
            "[2 3 4]\n",
            "[11 25 34]\n",
            "[  71 1000   43]\n",
            "[753 841 964]\n",
            "[957 864 426]\n"
          ]
        }
      ]
    },
    {
      "cell_type": "code",
      "source": [
        "for i in D3: # ai gulo loop diye kora holo\n",
        "  for j in i:\n",
        "    for k in j:\n",
        "      print(k)"
      ],
      "metadata": {
        "colab": {
          "base_uri": "https://localhost:8080/"
        },
        "id": "Z4nmSED4KIpu",
        "outputId": "f50356cb-a034-4b79-b58e-19111ee56805"
      },
      "execution_count": null,
      "outputs": [
        {
          "output_type": "stream",
          "name": "stdout",
          "text": [
            "1\n",
            "2\n",
            "3\n",
            "2\n",
            "3\n",
            "4\n",
            "11\n",
            "25\n",
            "34\n",
            "71\n",
            "1000\n",
            "43\n",
            "753\n",
            "841\n",
            "964\n",
            "957\n",
            "864\n",
            "426\n"
          ]
        }
      ]
    },
    {
      "cell_type": "code",
      "source": [
        "# Numpy ar fuinctions diye perform kora hobe\n",
        "\n",
        "for i,j in np.ndenumerate(D3):\n",
        "  print(i,j)   # ai function ti , indexing somet elements gulo ke print kore"
      ],
      "metadata": {
        "colab": {
          "base_uri": "https://localhost:8080/"
        },
        "id": "N79FWvciKWyx",
        "outputId": "3574cb21-84a9-4ff9-c3fd-d32ed2775c2b"
      },
      "execution_count": null,
      "outputs": [
        {
          "output_type": "stream",
          "name": "stdout",
          "text": [
            "(0, 0, 0) 1\n",
            "(0, 0, 1) 2\n",
            "(0, 0, 2) 3\n",
            "(0, 1, 0) 2\n",
            "(0, 1, 1) 3\n",
            "(0, 1, 2) 4\n",
            "(1, 0, 0) 11\n",
            "(1, 0, 1) 25\n",
            "(1, 0, 2) 34\n",
            "(1, 1, 0) 71\n",
            "(1, 1, 1) 1000\n",
            "(1, 1, 2) 43\n",
            "(2, 0, 0) 753\n",
            "(2, 0, 1) 841\n",
            "(2, 0, 2) 964\n",
            "(2, 1, 0) 957\n",
            "(2, 1, 1) 864\n",
            "(2, 1, 2) 426\n"
          ]
        }
      ]
    },
    {
      "cell_type": "code",
      "source": [
        "for i in np.nditer(D3): # ata o akta function , element gulo with out indexing kore print kore\n",
        " print(i)"
      ],
      "metadata": {
        "colab": {
          "base_uri": "https://localhost:8080/"
        },
        "id": "iHy0DJBxKs-y",
        "outputId": "cfdb4f61-bea2-423f-bf48-522617b58434"
      },
      "execution_count": null,
      "outputs": [
        {
          "output_type": "stream",
          "name": "stdout",
          "text": [
            "1\n",
            "2\n",
            "3\n",
            "2\n",
            "3\n",
            "4\n",
            "11\n",
            "25\n",
            "34\n",
            "71\n",
            "1000\n",
            "43\n",
            "753\n",
            "841\n",
            "964\n",
            "957\n",
            "864\n",
            "426\n"
          ]
        }
      ]
    },
    {
      "cell_type": "code",
      "source": [
        "# np.ndenumerate ->  ai function ti , indexing somet elements gulo ke print kore\n",
        "# np.nditer -> ata o akta function , element gulo with out indexing kore print kore"
      ],
      "metadata": {
        "id": "3yVCCKvcLETK"
      },
      "execution_count": null,
      "outputs": []
    },
    {
      "cell_type": "code",
      "source": [
        "d7"
      ],
      "metadata": {
        "colab": {
          "base_uri": "https://localhost:8080/"
        },
        "id": "_itgaJs2LjLa",
        "outputId": "c0897148-088b-450d-9add-12acf27b93ee"
      },
      "execution_count": null,
      "outputs": [
        {
          "output_type": "execute_result",
          "data": {
            "text/plain": [
              "array([[[[[[[1, 2, 3]]]]]]])"
            ]
          },
          "metadata": {},
          "execution_count": 74
        }
      ]
    },
    {
      "cell_type": "code",
      "source": [
        "# akhane 7 ti lear ache , karon ati 7 dimentional array\n",
        "# atar elements gulo ke extract korte hole 7 bar loop chalate hobe , tai amra Functions ar help nibio\n"
      ],
      "metadata": {
        "id": "x7yP27liLkjk"
      },
      "execution_count": null,
      "outputs": []
    },
    {
      "cell_type": "code",
      "source": [
        "for i,j in np.ndenumerate(d7):\n",
        "  print(i,j)"
      ],
      "metadata": {
        "colab": {
          "base_uri": "https://localhost:8080/"
        },
        "id": "JlQ8ZXmXL5kc",
        "outputId": "99248f26-fd23-4e40-cc2b-5c25ba773e17"
      },
      "execution_count": null,
      "outputs": [
        {
          "output_type": "stream",
          "name": "stdout",
          "text": [
            "(0, 0, 0, 0, 0, 0, 0) 1\n",
            "(0, 0, 0, 0, 0, 0, 1) 2\n",
            "(0, 0, 0, 0, 0, 0, 2) 3\n"
          ]
        }
      ]
    },
    {
      "cell_type": "code",
      "source": [
        "for i in np.nditer(d7):\n",
        "  print(i)"
      ],
      "metadata": {
        "colab": {
          "base_uri": "https://localhost:8080/"
        },
        "id": "maPcHkifMAT1",
        "outputId": "b2a1fa49-0dfe-439b-cec1-8739271e4e89"
      },
      "execution_count": null,
      "outputs": [
        {
          "output_type": "stream",
          "name": "stdout",
          "text": [
            "1\n",
            "2\n",
            "3\n"
          ]
        }
      ]
    },
    {
      "cell_type": "code",
      "source": [],
      "metadata": {
        "id": "DUTiGvbbMJFg"
      },
      "execution_count": null,
      "outputs": []
    }
  ]
}