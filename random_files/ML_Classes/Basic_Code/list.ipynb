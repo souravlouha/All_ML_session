{
  "nbformat": 4,
  "nbformat_minor": 0,
  "metadata": {
    "colab": {
      "provenance": [],
      "authorship_tag": "ABX9TyMikZuTEauCP7kSSwKCnT7/",
      "include_colab_link": true
    },
    "kernelspec": {
      "name": "python3",
      "display_name": "Python 3"
    },
    "language_info": {
      "name": "python"
    }
  },
  "cells": [
    {
      "cell_type": "markdown",
      "metadata": {
        "id": "view-in-github",
        "colab_type": "text"
      },
      "source": [
        "<a href=\"https://colab.research.google.com/github/souravlouha/All_ML_session/blob/main/list.ipynb\" target=\"_parent\"><img src=\"https://colab.research.google.com/assets/colab-badge.svg\" alt=\"Open In Colab\"/></a>"
      ]
    },
    {
      "cell_type": "markdown",
      "source": [
        "Creat list , and add 5 numbers , after that one number remove from list\n"
      ],
      "metadata": {
        "id": "qvdH5b8mRvQQ"
      }
    },
    {
      "cell_type": "code",
      "execution_count": 9,
      "metadata": {
        "id": "dRtKjRObFFTO",
        "colab": {
          "base_uri": "https://localhost:8080/"
        },
        "outputId": "fd290c28-fab9-466c-adfc-d44a3e448f11"
      },
      "outputs": [
        {
          "name": "stdout",
          "output_type": "stream",
          "text": [
            "Enter number 1: 7\n",
            "Enter number 2: 8\n",
            "Enter number 3: 9\n",
            "Enter number 4: 7\n",
            "Enter number 5: 7\n"
          ]
        }
      ],
      "source": [
        "numbers = []\n",
        "\n",
        "for i in range(5):\n",
        "    num = int(input(f\"Enter number {i+1}: \"))\n",
        "    numbers.append(num)"
      ]
    },
    {
      "cell_type": "code",
      "source": [
        "print(numbers)"
      ],
      "metadata": {
        "colab": {
          "base_uri": "https://localhost:8080/"
        },
        "id": "zTPQSn_pRK2S",
        "outputId": "26cb8105-a5cc-41f4-e199-6ca1d274cf50"
      },
      "execution_count": 10,
      "outputs": [
        {
          "output_type": "stream",
          "name": "stdout",
          "text": [
            "[7, 8, 9, 7, 7]\n"
          ]
        }
      ]
    },
    {
      "cell_type": "code",
      "source": [
        "numbers.remove(7)"
      ],
      "metadata": {
        "id": "Vl0hy-c70JVt"
      },
      "execution_count": 11,
      "outputs": []
    },
    {
      "cell_type": "code",
      "source": [
        "print(num)"
      ],
      "metadata": {
        "colab": {
          "base_uri": "https://localhost:8080/"
        },
        "id": "0T7NL9bH0NQD",
        "outputId": "7e3d685a-ff3c-4d8f-d666-feda608b7e62"
      },
      "execution_count": 12,
      "outputs": [
        {
          "output_type": "stream",
          "name": "stdout",
          "text": [
            "7\n"
          ]
        }
      ]
    },
    {
      "cell_type": "code",
      "source": [
        "print(numbers)"
      ],
      "metadata": {
        "colab": {
          "base_uri": "https://localhost:8080/"
        },
        "id": "Oug6ViDM0RsL",
        "outputId": "6fb597e1-43a8-4359-c6e6-b134f6871b06"
      },
      "execution_count": 13,
      "outputs": [
        {
          "output_type": "stream",
          "name": "stdout",
          "text": [
            "[8, 9, 7, 7]\n"
          ]
        }
      ]
    },
    {
      "cell_type": "code",
      "source": [],
      "metadata": {
        "id": "-kjNPKE10WDw"
      },
      "execution_count": null,
      "outputs": []
    }
  ]
}