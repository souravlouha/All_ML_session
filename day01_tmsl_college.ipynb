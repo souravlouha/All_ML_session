{
  "cells": [
    {
      "cell_type": "markdown",
      "metadata": {
        "id": "view-in-github",
        "colab_type": "text"
      },
      "source": [
        "<a href=\"https://colab.research.google.com/github/souravlouha/All_ML_session/blob/main/day01_tmsl_college.ipynb\" target=\"_parent\"><img src=\"https://colab.research.google.com/assets/colab-badge.svg\" alt=\"Open In Colab\"/></a>"
      ]
    },
    {
      "cell_type": "code",
      "execution_count": 57,
      "metadata": {
        "colab": {
          "base_uri": "https://localhost:8080/"
        },
        "id": "XCMCchEcPknf",
        "outputId": "ffa589d8-935e-4fe0-a674-26f1af86a764"
      },
      "outputs": [
        {
          "output_type": "stream",
          "name": "stdout",
          "text": [
            "welcome to colab\n",
            "numpy basic\n"
          ]
        }
      ],
      "source": [
        "print(\"welcome to colab\")\n",
        "print(\"numpy basic\")"
      ]
    },
    {
      "cell_type": "code",
      "execution_count": 58,
      "metadata": {
        "id": "xq1jqmhGP9dk"
      },
      "outputs": [],
      "source": [
        "import numpy as np"
      ]
    },
    {
      "cell_type": "markdown",
      "metadata": {
        "id": "BBeJsYVsQMw6"
      },
      "source": [
        "# Single Dimensional Array\n"
      ]
    },
    {
      "cell_type": "code",
      "execution_count": 59,
      "metadata": {
        "colab": {
          "base_uri": "https://localhost:8080/"
        },
        "id": "krjeGDSzQ9Ik",
        "outputId": "fb316d77-f0cc-4e47-fea7-8ed8b9a6e610"
      },
      "outputs": [
        {
          "output_type": "stream",
          "name": "stdout",
          "text": [
            "[12  5  7 13  6  9 15  2  1]\n"
          ]
        }
      ],
      "source": [
        "a = np.array([12,5,7,13,6,9,15,2,1])\n",
        "print(a)"
      ]
    },
    {
      "cell_type": "code",
      "execution_count": 60,
      "metadata": {
        "colab": {
          "base_uri": "https://localhost:8080/"
        },
        "id": "qe_-adtXSau7",
        "outputId": "e164c553-4edb-493f-94aa-35f1ff81134a"
      },
      "outputs": [
        {
          "output_type": "execute_result",
          "data": {
            "text/plain": [
              "1"
            ]
          },
          "metadata": {},
          "execution_count": 60
        }
      ],
      "source": [
        "a.ndim #how many dimension of array"
      ]
    },
    {
      "cell_type": "code",
      "execution_count": 61,
      "metadata": {
        "colab": {
          "base_uri": "https://localhost:8080/"
        },
        "id": "Q8SkmqAcSmea",
        "outputId": "c4cb5cb7-ae09-459c-e8f8-09c258d55fbf"
      },
      "outputs": [
        {
          "output_type": "execute_result",
          "data": {
            "text/plain": [
              "dtype('int64')"
            ]
          },
          "metadata": {},
          "execution_count": 61
        }
      ],
      "source": [
        "a.dtype"
      ]
    },
    {
      "cell_type": "code",
      "execution_count": 62,
      "metadata": {
        "colab": {
          "base_uri": "https://localhost:8080/"
        },
        "id": "ElHaMtXnSsSL",
        "outputId": "3b4d7000-fd2c-4916-bfc8-989156ef70f7"
      },
      "outputs": [
        {
          "output_type": "execute_result",
          "data": {
            "text/plain": [
              "(9,)"
            ]
          },
          "metadata": {},
          "execution_count": 62
        }
      ],
      "source": [
        "a.shape #how many element and size of array"
      ]
    },
    {
      "cell_type": "code",
      "execution_count": 63,
      "metadata": {
        "id": "Tk3ps1lES-WT"
      },
      "outputs": [],
      "source": [
        "a1 = np.array([12,5,7,13,6,9,15,2,1],dtype='int32')\n"
      ]
    },
    {
      "cell_type": "code",
      "execution_count": 64,
      "metadata": {
        "colab": {
          "base_uri": "https://localhost:8080/"
        },
        "id": "glI5vXgPTt7S",
        "outputId": "672d9e2b-df07-4888-dce7-f417aecf8195"
      },
      "outputs": [
        {
          "output_type": "execute_result",
          "data": {
            "text/plain": [
              "dtype('int32')"
            ]
          },
          "metadata": {},
          "execution_count": 64
        }
      ],
      "source": [
        "a1.dtype"
      ]
    },
    {
      "cell_type": "code",
      "execution_count": 65,
      "metadata": {
        "id": "vdGbWmocT1fw"
      },
      "outputs": [],
      "source": [
        "a1 = np.array([12,5,7,13,6,9,15,2,1],dtype=np.int32)"
      ]
    },
    {
      "cell_type": "code",
      "execution_count": 66,
      "metadata": {
        "colab": {
          "base_uri": "https://localhost:8080/"
        },
        "id": "N71lCdDqU-Ob",
        "outputId": "fcf608ea-05c5-4607-c681-5d2190000d2e"
      },
      "outputs": [
        {
          "output_type": "execute_result",
          "data": {
            "text/plain": [
              "dtype('int32')"
            ]
          },
          "metadata": {},
          "execution_count": 66
        }
      ],
      "source": [
        "a1.dtype"
      ]
    },
    {
      "cell_type": "code",
      "execution_count": 67,
      "metadata": {
        "id": "CP-kMbu1VBqQ"
      },
      "outputs": [],
      "source": [
        "a2 = a1.astype(np.int32)"
      ]
    },
    {
      "cell_type": "code",
      "execution_count": null,
      "metadata": {
        "colab": {
          "base_uri": "https://localhost:8080/"
        },
        "id": "UaLiFNnbVOCh",
        "outputId": "e6308cbe-5060-4836-adcc-df1187e643f8"
      },
      "outputs": [
        {
          "data": {
            "text/plain": [
              "dtype('int32')"
            ]
          },
          "execution_count": 14,
          "metadata": {},
          "output_type": "execute_result"
        }
      ],
      "source": [
        "a2.dtype"
      ]
    },
    {
      "cell_type": "code",
      "execution_count": 68,
      "metadata": {
        "colab": {
          "base_uri": "https://localhost:8080/"
        },
        "id": "TeXcKD7LVSJB",
        "outputId": "9205cfdb-9ad4-4063-a7da-2cdf737d11dc"
      },
      "outputs": [
        {
          "output_type": "execute_result",
          "data": {
            "text/plain": [
              "array([12,  5,  7, 13,  6,  9, 15,  2,  1], dtype=int32)"
            ]
          },
          "metadata": {},
          "execution_count": 68
        }
      ],
      "source": [
        "a2"
      ]
    },
    {
      "cell_type": "code",
      "execution_count": 69,
      "metadata": {
        "colab": {
          "base_uri": "https://localhost:8080/"
        },
        "id": "kJbvNyZWVTmJ",
        "outputId": "7342f8a7-dc66-4714-a4d3-116cb3eab891"
      },
      "outputs": [
        {
          "output_type": "execute_result",
          "data": {
            "text/plain": [
              "1"
            ]
          },
          "metadata": {},
          "execution_count": 69
        }
      ],
      "source": [
        "a2[-1]"
      ]
    },
    {
      "cell_type": "code",
      "execution_count": 70,
      "metadata": {
        "colab": {
          "base_uri": "https://localhost:8080/"
        },
        "id": "NRNfYDN1VZbp",
        "outputId": "debd4b94-e696-4d59-8489-238a54388885"
      },
      "outputs": [
        {
          "output_type": "execute_result",
          "data": {
            "text/plain": [
              "1"
            ]
          },
          "metadata": {},
          "execution_count": 70
        }
      ],
      "source": [
        "a2[len(a2)-1]"
      ]
    },
    {
      "cell_type": "code",
      "execution_count": 71,
      "metadata": {
        "colab": {
          "base_uri": "https://localhost:8080/"
        },
        "id": "rQ2L_P1MV56R",
        "outputId": "6b831978-c3ec-415d-f31e-6ac447838910"
      },
      "outputs": [
        {
          "output_type": "execute_result",
          "data": {
            "text/plain": [
              "array([ 7, 13,  6,  9], dtype=int32)"
            ]
          },
          "metadata": {},
          "execution_count": 71
        }
      ],
      "source": [
        "a2[2:6] #slicing ; common diff 1 thake\n"
      ]
    },
    {
      "cell_type": "code",
      "execution_count": 72,
      "metadata": {
        "colab": {
          "base_uri": "https://localhost:8080/"
        },
        "id": "60GtscbeWGwp",
        "outputId": "188a1da7-2253-491d-db90-0a27cceca820"
      },
      "outputs": [
        {
          "output_type": "execute_result",
          "data": {
            "text/plain": [
              "array([ 7, 13,  6,  9, 15,  2,  1], dtype=int32)"
            ]
          },
          "metadata": {},
          "execution_count": 72
        }
      ],
      "source": [
        "a2[2:]"
      ]
    },
    {
      "cell_type": "code",
      "execution_count": 73,
      "metadata": {
        "colab": {
          "base_uri": "https://localhost:8080/"
        },
        "id": "wInJeBbmWgUh",
        "outputId": "72f4d660-1816-402d-c1b1-1a271afea125"
      },
      "outputs": [
        {
          "output_type": "execute_result",
          "data": {
            "text/plain": [
              "array([12,  5,  7, 13,  6,  9, 15,  2,  1], dtype=int32)"
            ]
          },
          "metadata": {},
          "execution_count": 73
        }
      ],
      "source": [
        "a2[:]"
      ]
    },
    {
      "cell_type": "code",
      "execution_count": 74,
      "metadata": {
        "colab": {
          "base_uri": "https://localhost:8080/"
        },
        "id": "9YSi5Qk0WngR",
        "outputId": "f812562c-7123-45be-e701-bc1cfbbad1fb"
      },
      "outputs": [
        {
          "output_type": "execute_result",
          "data": {
            "text/plain": [
              "array([ 5, 13,  9], dtype=int32)"
            ]
          },
          "metadata": {},
          "execution_count": 74
        }
      ],
      "source": [
        "a2[1:7:2]"
      ]
    },
    {
      "cell_type": "code",
      "execution_count": 75,
      "metadata": {
        "colab": {
          "base_uri": "https://localhost:8080/"
        },
        "id": "xYgep31lWq9B",
        "outputId": "a4061dba-5765-4661-dc8f-88d8a9296e41"
      },
      "outputs": [
        {
          "output_type": "execute_result",
          "data": {
            "text/plain": [
              "array([12,  7,  6, 15,  1], dtype=int32)"
            ]
          },
          "metadata": {},
          "execution_count": 75
        }
      ],
      "source": [
        "a2[::2]"
      ]
    },
    {
      "cell_type": "code",
      "execution_count": 76,
      "metadata": {
        "colab": {
          "base_uri": "https://localhost:8080/"
        },
        "id": "DN2Zw4OfXDXn",
        "outputId": "35195def-493c-4a55-b8b4-fdb0a4e09243"
      },
      "outputs": [
        {
          "output_type": "execute_result",
          "data": {
            "text/plain": [
              "array([12,  7,  6, 15,  1], dtype=int32)"
            ]
          },
          "metadata": {},
          "execution_count": 76
        }
      ],
      "source": [
        "a2[0:len(a2):2]"
      ]
    },
    {
      "cell_type": "code",
      "execution_count": 77,
      "metadata": {
        "colab": {
          "base_uri": "https://localhost:8080/"
        },
        "id": "LbYFR6UOXAIA",
        "outputId": "e2fd94f5-2a5f-4bb4-b353-a6dc6ff9f62e"
      },
      "outputs": [
        {
          "output_type": "execute_result",
          "data": {
            "text/plain": [
              "array([ 1,  2, 15,  9,  6, 13,  7,  5, 12], dtype=int32)"
            ]
          },
          "metadata": {},
          "execution_count": 77
        }
      ],
      "source": [
        "a2[::-1]"
      ]
    },
    {
      "cell_type": "code",
      "execution_count": 78,
      "metadata": {
        "colab": {
          "base_uri": "https://localhost:8080/"
        },
        "id": "MNcE2VW3XzrH",
        "outputId": "f4806288-3224-43a6-daef-681ce1354e16"
      },
      "outputs": [
        {
          "output_type": "execute_result",
          "data": {
            "text/plain": [
              "array([], dtype=int32)"
            ]
          },
          "metadata": {},
          "execution_count": 78
        }
      ],
      "source": [
        "a2[0:len(a2):-1]"
      ]
    },
    {
      "cell_type": "code",
      "execution_count": 79,
      "metadata": {
        "colab": {
          "base_uri": "https://localhost:8080/"
        },
        "id": "axitZSP2X4un",
        "outputId": "36c2aea5-8345-41f4-9b9e-3da4c12b4bdd"
      },
      "outputs": [
        {
          "output_type": "execute_result",
          "data": {
            "text/plain": [
              "array([ 1,  2, 15,  9,  6, 13,  7,  5, 12], dtype=int32)"
            ]
          },
          "metadata": {},
          "execution_count": 79
        }
      ],
      "source": [
        "a2[-1:-len(a2)-1:-1]"
      ]
    },
    {
      "cell_type": "code",
      "execution_count": 80,
      "metadata": {
        "colab": {
          "base_uri": "https://localhost:8080/"
        },
        "id": "9f2QE-Ycllyc",
        "outputId": "ceb9d4fb-3a82-4950-ad5b-a9bbead0260c"
      },
      "outputs": [
        {
          "output_type": "execute_result",
          "data": {
            "text/plain": [
              "array([ 5, 13, 15], dtype=int32)"
            ]
          },
          "metadata": {},
          "execution_count": 80
        }
      ],
      "source": [
        "a2[[1,3,6]] #special indexing"
      ]
    },
    {
      "cell_type": "code",
      "execution_count": 81,
      "metadata": {
        "colab": {
          "base_uri": "https://localhost:8080/"
        },
        "id": "lqRr8cV-l1jy",
        "outputId": "2b185191-4545-43d5-b09a-92fb1d826715"
      },
      "outputs": [
        {
          "output_type": "execute_result",
          "data": {
            "text/plain": [
              "array([13,  5, 15], dtype=int32)"
            ]
          },
          "metadata": {},
          "execution_count": 81
        }
      ],
      "source": [
        "a2[[3,1,6]]"
      ]
    },
    {
      "cell_type": "code",
      "execution_count": 82,
      "metadata": {
        "id": "KgxBG-JxmGiq"
      },
      "outputs": [],
      "source": [
        "a3 = np.random.randint(1,100,10)"
      ]
    },
    {
      "cell_type": "code",
      "execution_count": 83,
      "metadata": {
        "colab": {
          "base_uri": "https://localhost:8080/"
        },
        "id": "bzc1_WxAmuzq",
        "outputId": "0d53da79-0611-4a59-da03-a99c2c956fbd"
      },
      "outputs": [
        {
          "output_type": "execute_result",
          "data": {
            "text/plain": [
              "array([22, 90, 48, 68, 72,  2, 19, 85,  2, 19])"
            ]
          },
          "metadata": {},
          "execution_count": 83
        }
      ],
      "source": [
        "a3"
      ]
    },
    {
      "cell_type": "code",
      "execution_count": 84,
      "metadata": {
        "colab": {
          "base_uri": "https://localhost:8080/"
        },
        "id": "NqyXsmxTmx9B",
        "outputId": "98013ee3-9437-4f9a-f7d8-52369c3f2d9a"
      },
      "outputs": [
        {
          "output_type": "execute_result",
          "data": {
            "text/plain": [
              "array([90, 68, 72, 85])"
            ]
          },
          "metadata": {},
          "execution_count": 84
        }
      ],
      "source": [
        "a3[a3>=50]"
      ]
    },
    {
      "cell_type": "code",
      "execution_count": 85,
      "metadata": {
        "colab": {
          "base_uri": "https://localhost:8080/"
        },
        "id": "O5DBY-o0m2Ep",
        "outputId": "19ce9c15-b13e-4ddc-99b9-18f2aec5defe"
      },
      "outputs": [
        {
          "output_type": "execute_result",
          "data": {
            "text/plain": [
              "array([False,  True, False,  True,  True, False, False,  True, False,\n",
              "       False])"
            ]
          },
          "metadata": {},
          "execution_count": 85
        }
      ],
      "source": [
        "a3>=50"
      ]
    },
    {
      "cell_type": "code",
      "execution_count": 86,
      "metadata": {
        "colab": {
          "base_uri": "https://localhost:8080/"
        },
        "id": "6F0IT81UnK_J",
        "outputId": "c538c38b-eaf0-459c-b177-baef77c81aaa"
      },
      "outputs": [
        {
          "output_type": "execute_result",
          "data": {
            "text/plain": [
              "array([90, 48,  2, 19, 85,  2])"
            ]
          },
          "metadata": {},
          "execution_count": 86
        }
      ],
      "source": [
        "a3[[False,  True,  True, False, False,  True,  True,  True,  True,\n",
        "       False]]"
      ]
    },
    {
      "cell_type": "code",
      "execution_count": 87,
      "metadata": {
        "colab": {
          "base_uri": "https://localhost:8080/"
        },
        "id": "kfHdhgjonTwp",
        "outputId": "20e9e047-53dd-4808-beb2-71b4167a260b"
      },
      "outputs": [
        {
          "output_type": "execute_result",
          "data": {
            "text/plain": [
              "array([48])"
            ]
          },
          "metadata": {},
          "execution_count": 87
        }
      ],
      "source": [
        "a3[(a3>=40) & (a3<=60)]"
      ]
    },
    {
      "cell_type": "code",
      "execution_count": 88,
      "metadata": {
        "colab": {
          "base_uri": "https://localhost:8080/"
        },
        "id": "jTqfgVO_n0eS",
        "outputId": "34a51cf8-06c2-4bb8-dc0b-ab666ba816c7"
      },
      "outputs": [
        {
          "output_type": "execute_result",
          "data": {
            "text/plain": [
              "array([22, 90, 68, 72,  2, 19, 85,  2, 19])"
            ]
          },
          "metadata": {},
          "execution_count": 88
        }
      ],
      "source": [
        "a3[(a3<=40) | (a3>=60)]"
      ]
    },
    {
      "cell_type": "code",
      "execution_count": 89,
      "metadata": {
        "colab": {
          "base_uri": "https://localhost:8080/"
        },
        "id": "dOwsU__hobN5",
        "outputId": "8fbf5294-1aca-4ae1-8406-b84cd08f8c28"
      },
      "outputs": [
        {
          "output_type": "execute_result",
          "data": {
            "text/plain": [
              "array([22, 90, 68, 72,  2, 19, 85,  2, 19])"
            ]
          },
          "metadata": {},
          "execution_count": 89
        }
      ],
      "source": [
        "a3[~((a3>=40) & (a3<=60))] # ~ this is the not opparatar in numpy"
      ]
    },
    {
      "cell_type": "code",
      "execution_count": 90,
      "metadata": {
        "id": "ohF-_a6_opro"
      },
      "outputs": [],
      "source": [
        "a4 = np.random.randint(1,100,10)\n",
        "a5 = np.random.randint(1,100,10)"
      ]
    },
    {
      "cell_type": "code",
      "execution_count": 92,
      "metadata": {
        "colab": {
          "base_uri": "https://localhost:8080/"
        },
        "id": "4YKKPqqSpJ7p",
        "outputId": "c20ebd73-604c-4001-8bad-2e2e447cd86a"
      },
      "outputs": [
        {
          "output_type": "execute_result",
          "data": {
            "text/plain": [
              "array([18, 65, 52, 22,  7, 92, 38,  7, 17, 53])"
            ]
          },
          "metadata": {},
          "execution_count": 92
        }
      ],
      "source": [
        "a4"
      ]
    },
    {
      "cell_type": "code",
      "execution_count": 93,
      "metadata": {
        "colab": {
          "base_uri": "https://localhost:8080/"
        },
        "id": "do9CZbkypLqo",
        "outputId": "b365ab86-6302-45cd-ec2e-6a55da1c6629"
      },
      "outputs": [
        {
          "output_type": "execute_result",
          "data": {
            "text/plain": [
              "array([83, 44, 60, 59, 18, 58, 29, 21, 51, 64])"
            ]
          },
          "metadata": {},
          "execution_count": 93
        }
      ],
      "source": [
        "a5"
      ]
    },
    {
      "cell_type": "code",
      "execution_count": 94,
      "metadata": {
        "id": "XAI0NX_lpMnQ"
      },
      "outputs": [],
      "source": [
        "a6= a4+a5"
      ]
    },
    {
      "cell_type": "code",
      "execution_count": 95,
      "metadata": {
        "colab": {
          "base_uri": "https://localhost:8080/"
        },
        "id": "MpAZ0drPpPF4",
        "outputId": "7164f97e-8f87-43aa-dd7b-37570b10e392"
      },
      "outputs": [
        {
          "output_type": "execute_result",
          "data": {
            "text/plain": [
              "array([101, 109, 112,  81,  25, 150,  67,  28,  68, 117])"
            ]
          },
          "metadata": {},
          "execution_count": 95
        }
      ],
      "source": [
        "a6"
      ]
    },
    {
      "cell_type": "code",
      "execution_count": 96,
      "metadata": {
        "colab": {
          "base_uri": "https://localhost:8080/"
        },
        "id": "f1Zh3BLOpRTY",
        "outputId": "77e44972-c4d0-414a-e5be-28354efb1b3f"
      },
      "outputs": [
        {
          "output_type": "execute_result",
          "data": {
            "text/plain": [
              "array([ 0.45202579,  0.81674261, -0.8899956 , -0.62988799, -0.13235175,\n",
              "       -0.71487643, -0.85551998,  0.27090579, -0.89792768, -0.68969794])"
            ]
          },
          "metadata": {},
          "execution_count": 96
        }
      ],
      "source": [
        "np.sin(a6) #universal function :=ufunc"
      ]
    },
    {
      "cell_type": "code",
      "execution_count": 97,
      "metadata": {
        "colab": {
          "base_uri": "https://localhost:8080/"
        },
        "id": "lO4X3d8gqkJ5",
        "outputId": "cdd0e341-a5a4-444e-a2a6-e24e5b06fb4a"
      },
      "outputs": [
        {
          "output_type": "execute_result",
          "data": {
            "text/plain": [
              "array([2.00432137, 2.0374265 , 2.04921802, 1.90848502, 1.39794001,\n",
              "       2.17609126, 1.8260748 , 1.44715803, 1.83250891, 2.06818586])"
            ]
          },
          "metadata": {},
          "execution_count": 97
        }
      ],
      "source": [
        "np.log10(a6)"
      ]
    },
    {
      "cell_type": "code",
      "execution_count": 98,
      "metadata": {
        "colab": {
          "base_uri": "https://localhost:8080/"
        },
        "id": "hrJXfgKzqxIY",
        "outputId": "b26ac6c3-9a4b-46ed-f091-8a26f6310d67"
      },
      "outputs": [
        {
          "output_type": "execute_result",
          "data": {
            "text/plain": [
              "858"
            ]
          },
          "metadata": {},
          "execution_count": 98
        }
      ],
      "source": [
        "a6.sum()"
      ]
    },
    {
      "cell_type": "code",
      "execution_count": 99,
      "metadata": {
        "id": "MsqGnJfQq9kP"
      },
      "outputs": [],
      "source": [
        "a6 +=10 # Broadcasting"
      ]
    },
    {
      "cell_type": "code",
      "execution_count": 100,
      "metadata": {
        "colab": {
          "base_uri": "https://localhost:8080/"
        },
        "id": "bzHEK4RdrGgg",
        "outputId": "d8c0280d-8fbc-4008-e3cf-560dc5dfe37a"
      },
      "outputs": [
        {
          "output_type": "execute_result",
          "data": {
            "text/plain": [
              "array([111, 119, 122,  91,  35, 160,  77,  38,  78, 127])"
            ]
          },
          "metadata": {},
          "execution_count": 100
        }
      ],
      "source": [
        "a6"
      ]
    },
    {
      "cell_type": "markdown",
      "metadata": {
        "id": "CWJehZN6rNMI"
      },
      "source": [
        "#Tow D arrays\n"
      ]
    },
    {
      "cell_type": "code",
      "execution_count": 101,
      "metadata": {
        "id": "2-z4b1OMrdfg"
      },
      "outputs": [],
      "source": [
        "b = np.array([[1,2,3],[4,5,6],[7,8,9]]) # 2d array"
      ]
    },
    {
      "cell_type": "code",
      "execution_count": 102,
      "metadata": {
        "colab": {
          "base_uri": "https://localhost:8080/"
        },
        "id": "MCp3sORhrg8Q",
        "outputId": "f8ae97a1-a7c3-4780-dd5e-a6249f813a86"
      },
      "outputs": [
        {
          "output_type": "execute_result",
          "data": {
            "text/plain": [
              "array([[1, 2, 3],\n",
              "       [4, 5, 6],\n",
              "       [7, 8, 9]])"
            ]
          },
          "metadata": {},
          "execution_count": 102
        }
      ],
      "source": [
        "b"
      ]
    },
    {
      "cell_type": "code",
      "execution_count": 103,
      "metadata": {
        "colab": {
          "base_uri": "https://localhost:8080/"
        },
        "id": "BrAZ6dMzrq6I",
        "outputId": "444db423-6c50-4bb0-a0d5-6d7cc4da8be6"
      },
      "outputs": [
        {
          "output_type": "execute_result",
          "data": {
            "text/plain": [
              "2"
            ]
          },
          "metadata": {},
          "execution_count": 103
        }
      ],
      "source": [
        "b.ndim"
      ]
    },
    {
      "cell_type": "code",
      "execution_count": 104,
      "metadata": {
        "colab": {
          "base_uri": "https://localhost:8080/"
        },
        "id": "XJs1MFVlrxhw",
        "outputId": "60ff817b-5d50-4ebb-e9b1-cc31b88e1ede"
      },
      "outputs": [
        {
          "output_type": "execute_result",
          "data": {
            "text/plain": [
              "(3, 3)"
            ]
          },
          "metadata": {},
          "execution_count": 104
        }
      ],
      "source": [
        "b.shape"
      ]
    },
    {
      "cell_type": "code",
      "execution_count": 105,
      "metadata": {
        "id": "qAVXmEPLr0bI"
      },
      "outputs": [],
      "source": [
        "a7 = np.arange(1,13)"
      ]
    },
    {
      "cell_type": "code",
      "execution_count": 106,
      "metadata": {
        "colab": {
          "base_uri": "https://localhost:8080/"
        },
        "id": "6FV0eHgHr5jf",
        "outputId": "24aef70d-2f46-4f02-a12c-56e92616ce82"
      },
      "outputs": [
        {
          "output_type": "execute_result",
          "data": {
            "text/plain": [
              "array([ 1,  2,  3,  4,  5,  6,  7,  8,  9, 10, 11, 12])"
            ]
          },
          "metadata": {},
          "execution_count": 106
        }
      ],
      "source": [
        "a7"
      ]
    },
    {
      "cell_type": "code",
      "execution_count": 107,
      "metadata": {
        "id": "YsUXfO_rr9IP"
      },
      "outputs": [],
      "source": [
        "b1= a7.reshape(3,4)"
      ]
    },
    {
      "cell_type": "code",
      "execution_count": 108,
      "metadata": {
        "colab": {
          "base_uri": "https://localhost:8080/"
        },
        "id": "sJvUKVCHsDZH",
        "outputId": "f8fbf5af-0e08-44ed-c177-fb733f32f5bc"
      },
      "outputs": [
        {
          "output_type": "execute_result",
          "data": {
            "text/plain": [
              "array([[ 1,  2,  3,  4],\n",
              "       [ 5,  6,  7,  8],\n",
              "       [ 9, 10, 11, 12]])"
            ]
          },
          "metadata": {},
          "execution_count": 108
        }
      ],
      "source": [
        "b1"
      ]
    },
    {
      "cell_type": "code",
      "execution_count": 109,
      "metadata": {
        "id": "B6UxWpu7sEdv"
      },
      "outputs": [],
      "source": [
        "b2= a7.reshape(3,-1)"
      ]
    },
    {
      "cell_type": "code",
      "execution_count": 110,
      "metadata": {
        "colab": {
          "base_uri": "https://localhost:8080/"
        },
        "id": "BFEw_nqFsVIv",
        "outputId": "5fd316f1-b746-414b-d967-f550f65d9476"
      },
      "outputs": [
        {
          "output_type": "execute_result",
          "data": {
            "text/plain": [
              "array([[ 1,  2,  3,  4],\n",
              "       [ 5,  6,  7,  8],\n",
              "       [ 9, 10, 11, 12]])"
            ]
          },
          "metadata": {},
          "execution_count": 110
        }
      ],
      "source": [
        "b2"
      ]
    },
    {
      "cell_type": "code",
      "execution_count": 111,
      "metadata": {
        "id": "2qZZUYSWsV6X"
      },
      "outputs": [],
      "source": [
        "b3= a7.reshape(-1,4)"
      ]
    },
    {
      "cell_type": "code",
      "execution_count": 112,
      "metadata": {
        "colab": {
          "base_uri": "https://localhost:8080/"
        },
        "id": "lodu6ePYsnWf",
        "outputId": "a5cce32f-d51a-4ec9-cdf8-9f7554e12801"
      },
      "outputs": [
        {
          "output_type": "execute_result",
          "data": {
            "text/plain": [
              "array([[ 1,  2,  3,  4],\n",
              "       [ 5,  6,  7,  8],\n",
              "       [ 9, 10, 11, 12]])"
            ]
          },
          "metadata": {},
          "execution_count": 112
        }
      ],
      "source": [
        "b3"
      ]
    },
    {
      "cell_type": "code",
      "execution_count": 113,
      "metadata": {
        "colab": {
          "base_uri": "https://localhost:8080/"
        },
        "id": "J5a_E2t0soxn",
        "outputId": "f75ad7fb-0db3-42d4-b41c-5dbc6463c209"
      },
      "outputs": [
        {
          "output_type": "execute_result",
          "data": {
            "text/plain": [
              "array([[ 1],\n",
              "       [ 2],\n",
              "       [ 3],\n",
              "       [ 4],\n",
              "       [ 5],\n",
              "       [ 6],\n",
              "       [ 7],\n",
              "       [ 8],\n",
              "       [ 9],\n",
              "       [10],\n",
              "       [11],\n",
              "       [12]])"
            ]
          },
          "metadata": {},
          "execution_count": 113
        }
      ],
      "source": [
        "a7.reshape(-1,1)"
      ]
    },
    {
      "cell_type": "code",
      "execution_count": 114,
      "metadata": {
        "colab": {
          "base_uri": "https://localhost:8080/"
        },
        "id": "82kHgZFstsPH",
        "outputId": "d5b4e69c-e748-4e8b-b17f-00ee3b2665af"
      },
      "outputs": [
        {
          "output_type": "execute_result",
          "data": {
            "text/plain": [
              "array([[ 1,  2,  3,  4,  5,  6,  7,  8,  9, 10, 11, 12]])"
            ]
          },
          "metadata": {},
          "execution_count": 114
        }
      ],
      "source": [
        "a7.reshape(1,-1)"
      ]
    },
    {
      "cell_type": "code",
      "execution_count": 115,
      "metadata": {
        "id": "kL1jhEn6t6IX"
      },
      "outputs": [],
      "source": [
        "b4 = np.random.randint(1,100,(7,8)) # aikhane 7,8 ar akti matrix creat korlam"
      ]
    },
    {
      "cell_type": "code",
      "execution_count": 116,
      "metadata": {
        "colab": {
          "base_uri": "https://localhost:8080/"
        },
        "id": "7tuQSCeKvPfQ",
        "outputId": "a0b04fa0-cfaf-4542-96b8-c9f3731d9ae0"
      },
      "outputs": [
        {
          "output_type": "execute_result",
          "data": {
            "text/plain": [
              "array([[35, 21, 34,  6, 13, 49, 88, 36],\n",
              "       [26, 46, 58, 73, 89, 88, 60, 59],\n",
              "       [21, 17, 69, 35,  6, 97, 25, 86],\n",
              "       [48, 85, 54, 59, 17, 45, 25, 25],\n",
              "       [81, 46, 38, 20, 58, 48, 54, 27],\n",
              "       [58, 35, 71, 70, 39, 69, 22, 99],\n",
              "       [32, 67, 94, 10, 52, 32, 83, 86]])"
            ]
          },
          "metadata": {},
          "execution_count": 116
        }
      ],
      "source": [
        "b4"
      ]
    },
    {
      "cell_type": "code",
      "execution_count": 117,
      "metadata": {
        "colab": {
          "base_uri": "https://localhost:8080/"
        },
        "id": "QL4W8r_5vXov",
        "outputId": "089de4f6-d5db-4bf7-a442-e4615c7952dc"
      },
      "outputs": [
        {
          "output_type": "execute_result",
          "data": {
            "text/plain": [
              "array([21, 17, 69, 35,  6, 97, 25, 86])"
            ]
          },
          "metadata": {},
          "execution_count": 117
        }
      ],
      "source": [
        "b4[2] # ata row ar number dile , sei row tai show kore ;; indexing"
      ]
    },
    {
      "cell_type": "code",
      "execution_count": 118,
      "metadata": {
        "colab": {
          "base_uri": "https://localhost:8080/"
        },
        "id": "yY8rQxVEwj-n",
        "outputId": "4889b483-d107-4540-ebb9-c7e7db4536fb"
      },
      "outputs": [
        {
          "output_type": "execute_result",
          "data": {
            "text/plain": [
              "array([[21, 17, 69, 35,  6, 97, 25, 86]])"
            ]
          },
          "metadata": {},
          "execution_count": 118
        }
      ],
      "source": [
        "b4[2:3] # ata slicing"
      ]
    },
    {
      "cell_type": "code",
      "execution_count": 119,
      "metadata": {
        "colab": {
          "base_uri": "https://localhost:8080/"
        },
        "id": "sLiLmt_OxEcf",
        "outputId": "88b32451-ca8c-4b93-8818-6936b9711529"
      },
      "outputs": [
        {
          "output_type": "execute_result",
          "data": {
            "text/plain": [
              "35"
            ]
          },
          "metadata": {},
          "execution_count": 119
        }
      ],
      "source": [
        "b4[2][3] # ata kono row ar kono akti nidisto coloum ke ber kora jay"
      ]
    },
    {
      "cell_type": "code",
      "execution_count": 120,
      "metadata": {
        "colab": {
          "base_uri": "https://localhost:8080/"
        },
        "id": "AxuiLKn7xmYO",
        "outputId": "928d3ae3-0538-4342-dc66-552455ad53c4"
      },
      "outputs": [
        {
          "output_type": "execute_result",
          "data": {
            "text/plain": [
              "35"
            ]
          },
          "metadata": {},
          "execution_count": 120
        }
      ],
      "source": [
        "b4[2,3] # ata kono row ar kono akti nidisto coloum ke ber kora jay ;; atao akta process"
      ]
    },
    {
      "cell_type": "code",
      "execution_count": 121,
      "metadata": {
        "colab": {
          "base_uri": "https://localhost:8080/"
        },
        "id": "N6XitqBMyBC-",
        "outputId": "a3744f23-c004-43ac-caeb-b5b3b70b1b7c"
      },
      "outputs": [
        {
          "output_type": "execute_result",
          "data": {
            "text/plain": [
              "array([[26, 46, 58, 73, 89, 88, 60, 59],\n",
              "       [48, 85, 54, 59, 17, 45, 25, 25],\n",
              "       [58, 35, 71, 70, 39, 69, 22, 99]])"
            ]
          },
          "metadata": {},
          "execution_count": 121
        }
      ],
      "source": [
        "b4[1::2]"
      ]
    },
    {
      "cell_type": "code",
      "execution_count": 122,
      "metadata": {
        "colab": {
          "base_uri": "https://localhost:8080/"
        },
        "id": "mhX574PTyb6m",
        "outputId": "9ccb9d62-02bd-4160-8f0c-525a2e2f9b3b"
      },
      "outputs": [
        {
          "output_type": "execute_result",
          "data": {
            "text/plain": [
              "array([ 6, 73, 35, 59, 20, 70, 10])"
            ]
          },
          "metadata": {},
          "execution_count": 122
        }
      ],
      "source": [
        "b4[:,3] # coloum ber korar tecniq , kono coloum ber korte gele ai bhabe likhte hobe"
      ]
    },
    {
      "cell_type": "code",
      "execution_count": 123,
      "metadata": {
        "colab": {
          "base_uri": "https://localhost:8080/"
        },
        "id": "OdpzqZDCzAiu",
        "outputId": "0cd74355-06f1-4f06-88a5-eada60789a69"
      },
      "outputs": [
        {
          "output_type": "execute_result",
          "data": {
            "text/plain": [
              "array([[46, 73, 88],\n",
              "       [85, 59, 45]])"
            ]
          },
          "metadata": {},
          "execution_count": 123
        }
      ],
      "source": [
        "b4[1:4:2,1:6:2]"
      ]
    },
    {
      "cell_type": "code",
      "execution_count": 124,
      "metadata": {
        "colab": {
          "base_uri": "https://localhost:8080/"
        },
        "id": "474c3cRd1ESx",
        "outputId": "304f92b0-3669-42af-bcfd-30665c1e85c3"
      },
      "outputs": [
        {
          "output_type": "execute_result",
          "data": {
            "text/plain": [
              "array([[46, 73, 88],\n",
              "       [85, 59, 45],\n",
              "       [67, 10, 32]])"
            ]
          },
          "metadata": {},
          "execution_count": 124
        }
      ],
      "source": [
        "b4[[1,3,6],1:6:2] #complex slicing"
      ]
    },
    {
      "cell_type": "code",
      "execution_count": 125,
      "metadata": {
        "colab": {
          "base_uri": "https://localhost:8080/"
        },
        "id": "dXj94cWA1_a3",
        "outputId": "1390611b-04ce-4ceb-faad-3477428358b8"
      },
      "outputs": [
        {
          "output_type": "execute_result",
          "data": {
            "text/plain": [
              "array([46, 25, 94])"
            ]
          },
          "metadata": {},
          "execution_count": 125
        }
      ],
      "source": [
        "b4[[1,3,6],[1,6,2]]"
      ]
    },
    {
      "cell_type": "code",
      "execution_count": 126,
      "metadata": {
        "colab": {
          "base_uri": "https://localhost:8080/"
        },
        "id": "K-6bpo5p2TG9",
        "outputId": "ffcf641a-9a9b-44cb-a376-39e9563733f3"
      },
      "outputs": [
        {
          "output_type": "execute_result",
          "data": {
            "text/plain": [
              "array([[46, 60, 58],\n",
              "       [85, 25, 54],\n",
              "       [67, 83, 94]])"
            ]
          },
          "metadata": {},
          "execution_count": 126
        }
      ],
      "source": [
        "b4[[1,3,6]][:,[1,6,2]]"
      ]
    },
    {
      "cell_type": "code",
      "execution_count": 127,
      "metadata": {
        "colab": {
          "base_uri": "https://localhost:8080/"
        },
        "id": "oEoakNfD4JS1",
        "outputId": "f1957239-f72b-4e00-fb74-c411b3cdbb99"
      },
      "outputs": [
        {
          "output_type": "execute_result",
          "data": {
            "text/plain": [
              "array([[46, 73, 60],\n",
              "       [67, 10, 83],\n",
              "       [17, 35, 25]])"
            ]
          },
          "metadata": {},
          "execution_count": 127
        }
      ],
      "source": [
        "b4[:,[1,3,6]][[1,6,2]]"
      ]
    },
    {
      "cell_type": "code",
      "execution_count": 128,
      "metadata": {
        "id": "oJUTafzV4cZt"
      },
      "outputs": [],
      "source": [
        "b5= np.random.randint(1,100,(3,4))\n",
        "b6= np.random.randint(1,100,(3,4))"
      ]
    },
    {
      "cell_type": "code",
      "execution_count": 129,
      "metadata": {
        "colab": {
          "base_uri": "https://localhost:8080/"
        },
        "id": "97zFfg_75bVE",
        "outputId": "60c74c33-3ad2-4c5e-b7ec-cdb291e5e144"
      },
      "outputs": [
        {
          "output_type": "execute_result",
          "data": {
            "text/plain": [
              "array([[87,  3, 36, 99],\n",
              "       [91, 17, 86,  7],\n",
              "       [34, 47, 81, 82]])"
            ]
          },
          "metadata": {},
          "execution_count": 129
        }
      ],
      "source": [
        "b5"
      ]
    },
    {
      "cell_type": "code",
      "execution_count": 130,
      "metadata": {
        "colab": {
          "base_uri": "https://localhost:8080/"
        },
        "id": "HhAcVPy15pr0",
        "outputId": "97537397-362d-477b-b1df-4a508139b8a1"
      },
      "outputs": [
        {
          "output_type": "execute_result",
          "data": {
            "text/plain": [
              "array([[13, 42, 50, 75],\n",
              "       [34, 13, 99, 96],\n",
              "       [97, 71, 33, 28]])"
            ]
          },
          "metadata": {},
          "execution_count": 130
        }
      ],
      "source": [
        "b6"
      ]
    },
    {
      "cell_type": "code",
      "execution_count": 131,
      "metadata": {
        "colab": {
          "base_uri": "https://localhost:8080/"
        },
        "id": "xQmDRhIB5xK8",
        "outputId": "c761822c-ba66-4bc7-cc61-220f6292c257"
      },
      "outputs": [
        {
          "output_type": "execute_result",
          "data": {
            "text/plain": [
              "array([[1131,  126, 1800, 7425],\n",
              "       [3094,  221, 8514,  672],\n",
              "       [3298, 3337, 2673, 2296]])"
            ]
          },
          "metadata": {},
          "execution_count": 131
        }
      ],
      "source": [
        "b5*b6"
      ]
    },
    {
      "cell_type": "code",
      "execution_count": 132,
      "metadata": {
        "id": "zZdNIAXc50nd"
      },
      "outputs": [],
      "source": [
        "b7= np.random.randint(1,100,(3,4))\n",
        "b8= np.random.randint(1,100,(4,3))"
      ]
    },
    {
      "cell_type": "code",
      "execution_count": 133,
      "metadata": {
        "colab": {
          "base_uri": "https://localhost:8080/"
        },
        "id": "oIm1Oiyi6HKN",
        "outputId": "0fe68220-51f3-493e-b1ee-bdbdfa903577"
      },
      "outputs": [
        {
          "output_type": "execute_result",
          "data": {
            "text/plain": [
              "array([[ 5387,  3500,  3607],\n",
              "       [13902, 12840,  7518],\n",
              "       [13069, 13501,  8654]])"
            ]
          },
          "metadata": {},
          "execution_count": 133
        }
      ],
      "source": [
        "b7.dot(b8)"
      ]
    },
    {
      "cell_type": "code",
      "execution_count": 134,
      "metadata": {
        "colab": {
          "base_uri": "https://localhost:8080/"
        },
        "id": "1wADEkuH6L69",
        "outputId": "88d456a6-1cf9-4172-f345-4ab9aa587441"
      },
      "outputs": [
        {
          "output_type": "execute_result",
          "data": {
            "text/plain": [
              "array([[ 5387,  3500,  3607],\n",
              "       [13902, 12840,  7518],\n",
              "       [13069, 13501,  8654]])"
            ]
          },
          "metadata": {},
          "execution_count": 134
        }
      ],
      "source": [
        "np.dot(b7,b8)"
      ]
    },
    {
      "cell_type": "code",
      "execution_count": 135,
      "metadata": {
        "colab": {
          "base_uri": "https://localhost:8080/"
        },
        "id": "kjawvCu16UOM",
        "outputId": "5f0d1886-8876-48f4-b4d3-7b17bad78a2d"
      },
      "outputs": [
        {
          "output_type": "execute_result",
          "data": {
            "text/plain": [
              "array([[ 5387,  3500,  3607],\n",
              "       [13902, 12840,  7518],\n",
              "       [13069, 13501,  8654]])"
            ]
          },
          "metadata": {},
          "execution_count": 135
        }
      ],
      "source": [
        "b7@b8"
      ]
    },
    {
      "cell_type": "code",
      "execution_count": 136,
      "metadata": {
        "id": "Y5SaSJHM9J-i"
      },
      "outputs": [],
      "source": [
        "b9= np.random.randint(1,10,(5,4))\n",
        "b10= np.random.randint(1,10,(3,4))"
      ]
    },
    {
      "cell_type": "code",
      "execution_count": 137,
      "metadata": {
        "colab": {
          "base_uri": "https://localhost:8080/"
        },
        "id": "3Rt2Fni69W0q",
        "outputId": "7e9baa75-7a66-4d09-ec00-14b4f08664b4"
      },
      "outputs": [
        {
          "output_type": "execute_result",
          "data": {
            "text/plain": [
              "array([[5, 5, 5, 3],\n",
              "       [7, 3, 7, 7],\n",
              "       [4, 1, 4, 7],\n",
              "       [8, 4, 9, 5],\n",
              "       [4, 9, 4, 9]])"
            ]
          },
          "metadata": {},
          "execution_count": 137
        }
      ],
      "source": [
        "b9"
      ]
    },
    {
      "cell_type": "code",
      "execution_count": 138,
      "metadata": {
        "colab": {
          "base_uri": "https://localhost:8080/"
        },
        "id": "_-o7DHtI9baT",
        "outputId": "fc496dde-5229-49a9-c6ff-80812a6a4505"
      },
      "outputs": [
        {
          "output_type": "execute_result",
          "data": {
            "text/plain": [
              "array([[8, 5, 8, 1],\n",
              "       [3, 9, 6, 7],\n",
              "       [8, 7, 9, 9]])"
            ]
          },
          "metadata": {},
          "execution_count": 138
        }
      ],
      "source": [
        "b10"
      ]
    },
    {
      "cell_type": "code",
      "execution_count": 139,
      "metadata": {
        "colab": {
          "base_uri": "https://localhost:8080/"
        },
        "id": "jjvj50qS6Wpk",
        "outputId": "da75ffe7-0914-48b1-a323-f7b419e3dbf0"
      },
      "outputs": [
        {
          "output_type": "execute_result",
          "data": {
            "text/plain": [
              "array([[5, 5, 5, 3],\n",
              "       [7, 3, 7, 7],\n",
              "       [4, 1, 4, 7],\n",
              "       [8, 4, 9, 5],\n",
              "       [4, 9, 4, 9],\n",
              "       [8, 5, 8, 1],\n",
              "       [3, 9, 6, 7],\n",
              "       [8, 7, 9, 9]])"
            ]
          },
          "metadata": {},
          "execution_count": 139
        }
      ],
      "source": [
        "np.vstack([b9,b10])"
      ]
    },
    {
      "cell_type": "markdown",
      "metadata": {
        "id": "tAgj6onI-eUr"
      },
      "source": [
        "#system of linear equation\n"
      ]
    },
    {
      "cell_type": "code",
      "execution_count": 140,
      "metadata": {
        "id": "K3eqDHb7_PSz"
      },
      "outputs": [],
      "source": [
        "A = np.array([[3,2,-1],[2,-2,4],[-1,0.5,-1]])\n",
        "B = np.array([1,-2,0])"
      ]
    },
    {
      "cell_type": "code",
      "execution_count": 141,
      "metadata": {
        "id": "2kYQ1ADH_0UD"
      },
      "outputs": [],
      "source": [
        "x =np.linalg.solve(A,B)"
      ]
    },
    {
      "cell_type": "code",
      "execution_count": 142,
      "metadata": {
        "colab": {
          "base_uri": "https://localhost:8080/"
        },
        "id": "AWhUbt50AQdL",
        "outputId": "996b33fd-b542-4b58-f703-21aad198b267"
      },
      "outputs": [
        {
          "output_type": "execute_result",
          "data": {
            "text/plain": [
              "array([ 1., -2., -2.])"
            ]
          },
          "metadata": {},
          "execution_count": 142
        }
      ],
      "source": [
        "x"
      ]
    },
    {
      "cell_type": "code",
      "execution_count": 143,
      "metadata": {
        "colab": {
          "base_uri": "https://localhost:8080/"
        },
        "id": "w9XBmm3YAR5T",
        "outputId": "df809ce0-0145-4b9a-cf06-71e23d71d94e"
      },
      "outputs": [
        {
          "output_type": "execute_result",
          "data": {
            "text/plain": [
              "True"
            ]
          },
          "metadata": {},
          "execution_count": 143
        }
      ],
      "source": [
        "np.allclose(A@x,B)"
      ]
    },
    {
      "cell_type": "markdown",
      "source": [
        "# vectorization"
      ],
      "metadata": {
        "id": "7AZ_xyL8As1y"
      }
    },
    {
      "cell_type": "code",
      "source": [
        "a = np.random.randint(1,10,(7,8))\n"
      ],
      "metadata": {
        "id": "_cY5udE7B1Yc"
      },
      "execution_count": 144,
      "outputs": []
    },
    {
      "cell_type": "code",
      "source": [
        "def tactorial(n):\n",
        "  return 1 if n==0 else n*tactorial(n-1)"
      ],
      "metadata": {
        "id": "Xhid9rY7DKkD"
      },
      "execution_count": 145,
      "outputs": []
    },
    {
      "cell_type": "code",
      "source": [
        "tactorial(5)"
      ],
      "metadata": {
        "colab": {
          "base_uri": "https://localhost:8080/"
        },
        "id": "Ob_fKBPbDPja",
        "outputId": "6dd0ed46-c172-44a8-e995-cf78343788a9"
      },
      "execution_count": 147,
      "outputs": [
        {
          "output_type": "execute_result",
          "data": {
            "text/plain": [
              "120"
            ]
          },
          "metadata": {},
          "execution_count": 147
        }
      ]
    },
    {
      "cell_type": "code",
      "source": [
        "b = np.zeros_like(a)"
      ],
      "metadata": {
        "id": "EyTJkEpGDeKK"
      },
      "execution_count": 148,
      "outputs": []
    },
    {
      "cell_type": "code",
      "source": [
        "b"
      ],
      "metadata": {
        "colab": {
          "base_uri": "https://localhost:8080/"
        },
        "id": "HB9BSF0sEHDb",
        "outputId": "c5c3a15a-0175-4f34-eaae-fbf012764235"
      },
      "execution_count": 149,
      "outputs": [
        {
          "output_type": "execute_result",
          "data": {
            "text/plain": [
              "array([[0, 0, 0, 0, 0, 0, 0, 0],\n",
              "       [0, 0, 0, 0, 0, 0, 0, 0],\n",
              "       [0, 0, 0, 0, 0, 0, 0, 0],\n",
              "       [0, 0, 0, 0, 0, 0, 0, 0],\n",
              "       [0, 0, 0, 0, 0, 0, 0, 0],\n",
              "       [0, 0, 0, 0, 0, 0, 0, 0],\n",
              "       [0, 0, 0, 0, 0, 0, 0, 0]])"
            ]
          },
          "metadata": {},
          "execution_count": 149
        }
      ]
    },
    {
      "cell_type": "code",
      "source": [
        "for i in range(a.shape[0]):\n",
        "  for j in range(a.shape[1]):\n",
        "    b[i,j] = tactorial(a[i,j])"
      ],
      "metadata": {
        "id": "TcnMBCctEIRi"
      },
      "execution_count": 150,
      "outputs": []
    },
    {
      "cell_type": "code",
      "source": [
        "b"
      ],
      "metadata": {
        "colab": {
          "base_uri": "https://localhost:8080/"
        },
        "id": "eB6IaYX2ERJJ",
        "outputId": "9b80ff78-0471-455b-9414-047dc65dbbd5"
      },
      "execution_count": 151,
      "outputs": [
        {
          "output_type": "execute_result",
          "data": {
            "text/plain": [
              "array([[   720,      1,      6,     24,     24, 362880,     24, 362880],\n",
              "       [  5040,     24,    120,      6,   5040,    120,      2,   5040],\n",
              "       [  5040,  40320,    720,      1, 362880,  40320,      1,      1],\n",
              "       [     2,  40320,      6,    120,     24,   5040,      6,      2],\n",
              "       [ 40320, 362880,  40320,  40320, 362880,    120,     24,      2],\n",
              "       [     6,    120,   5040,     24,    720,  40320,      6,      2],\n",
              "       [  5040,    120,  40320,   5040,      6,      2,      1,    120]])"
            ]
          },
          "metadata": {},
          "execution_count": 151
        }
      ]
    },
    {
      "cell_type": "code",
      "source": [
        "vec_fact = np.vectorize(tactorial)"
      ],
      "metadata": {
        "id": "VbiKTtvlESNa"
      },
      "execution_count": 152,
      "outputs": []
    },
    {
      "cell_type": "code",
      "source": [
        "vec_fact(a)"
      ],
      "metadata": {
        "colab": {
          "base_uri": "https://localhost:8080/"
        },
        "id": "RYjlmOQ7FkTR",
        "outputId": "3935e244-019b-47b3-d3aa-b42aa1d4f6ba"
      },
      "execution_count": 153,
      "outputs": [
        {
          "output_type": "execute_result",
          "data": {
            "text/plain": [
              "array([[   720,      1,      6,     24,     24, 362880,     24, 362880],\n",
              "       [  5040,     24,    120,      6,   5040,    120,      2,   5040],\n",
              "       [  5040,  40320,    720,      1, 362880,  40320,      1,      1],\n",
              "       [     2,  40320,      6,    120,     24,   5040,      6,      2],\n",
              "       [ 40320, 362880,  40320,  40320, 362880,    120,     24,      2],\n",
              "       [     6,    120,   5040,     24,    720,  40320,      6,      2],\n",
              "       [  5040,    120,  40320,   5040,      6,      2,      1,    120]])"
            ]
          },
          "metadata": {},
          "execution_count": 153
        }
      ]
    },
    {
      "cell_type": "code",
      "source": [
        "@np.vectorize#factorial = np.vectorize(factorial)\n",
        "def factorial(n):\n",
        "  return 1 if n==0 else n*factorial(n-1)"
      ],
      "metadata": {
        "id": "sx3m-lo7Fqsx"
      },
      "execution_count": 154,
      "outputs": []
    },
    {
      "cell_type": "code",
      "source": [
        "factorial(a)"
      ],
      "metadata": {
        "colab": {
          "base_uri": "https://localhost:8080/"
        },
        "id": "MTlz3j2FGEaq",
        "outputId": "1db2aa10-485d-4e6b-c1f0-6d327ea54792"
      },
      "execution_count": 156,
      "outputs": [
        {
          "output_type": "execute_result",
          "data": {
            "text/plain": [
              "array([[   720,      1,      6,     24,     24, 362880,     24, 362880],\n",
              "       [  5040,     24,    120,      6,   5040,    120,      2,   5040],\n",
              "       [  5040,  40320,    720,      1, 362880,  40320,      1,      1],\n",
              "       [     2,  40320,      6,    120,     24,   5040,      6,      2],\n",
              "       [ 40320, 362880,  40320,  40320, 362880,    120,     24,      2],\n",
              "       [     6,    120,   5040,     24,    720,  40320,      6,      2],\n",
              "       [  5040,    120,  40320,   5040,      6,      2,      1,    120]])"
            ]
          },
          "metadata": {},
          "execution_count": 156
        }
      ]
    },
    {
      "cell_type": "code",
      "source": [],
      "metadata": {
        "id": "39YOndkhGVAB"
      },
      "execution_count": null,
      "outputs": []
    }
  ],
  "metadata": {
    "accelerator": "GPU",
    "colab": {
      "gpuType": "T4",
      "provenance": [],
      "authorship_tag": "ABX9TyN88Cax5eoVOf2rkg6BcLdj",
      "include_colab_link": true
    },
    "kernelspec": {
      "display_name": "Python 3",
      "name": "python3"
    },
    "language_info": {
      "name": "python"
    }
  },
  "nbformat": 4,
  "nbformat_minor": 0
}