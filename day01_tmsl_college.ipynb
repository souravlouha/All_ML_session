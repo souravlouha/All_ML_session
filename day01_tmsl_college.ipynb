{
  "cells": [
    {
      "cell_type": "markdown",
      "metadata": {
        "id": "view-in-github",
        "colab_type": "text"
      },
      "source": [
        "<a href=\"https://colab.research.google.com/github/souravlouha/All_ML_session/blob/main/day01_tmsl_college.ipynb\" target=\"_parent\"><img src=\"https://colab.research.google.com/assets/colab-badge.svg\" alt=\"Open In Colab\"/></a>"
      ]
    },
    {
      "cell_type": "code",
      "execution_count": null,
      "metadata": {
        "colab": {
          "base_uri": "https://localhost:8080/"
        },
        "id": "XCMCchEcPknf",
        "outputId": "229eea9d-f8b6-4ebe-9e8a-d7d3cbc29b65"
      },
      "outputs": [
        {
          "name": "stdout",
          "output_type": "stream",
          "text": [
            "welcome to colab\n",
            "numpy basic\n"
          ]
        }
      ],
      "source": [
        "print(\"welcome to colab\")\n",
        "print(\"numpy basic\")"
      ]
    },
    {
      "cell_type": "code",
      "execution_count": null,
      "metadata": {
        "id": "xq1jqmhGP9dk"
      },
      "outputs": [],
      "source": [
        "import numpy as np"
      ]
    },
    {
      "cell_type": "markdown",
      "metadata": {
        "id": "BBeJsYVsQMw6"
      },
      "source": [
        "# Single Dimensional Array\n"
      ]
    },
    {
      "cell_type": "code",
      "execution_count": null,
      "metadata": {
        "colab": {
          "base_uri": "https://localhost:8080/"
        },
        "id": "krjeGDSzQ9Ik",
        "outputId": "1e713674-3d90-4846-bca0-8d06241fb09e"
      },
      "outputs": [
        {
          "name": "stdout",
          "output_type": "stream",
          "text": [
            "[12  5  7 13  6  9 15  2  1]\n"
          ]
        }
      ],
      "source": [
        "a = np.array([12,5,7,13,6,9,15,2,1])\n",
        "print(a)"
      ]
    },
    {
      "cell_type": "code",
      "execution_count": null,
      "metadata": {
        "colab": {
          "base_uri": "https://localhost:8080/"
        },
        "id": "qe_-adtXSau7",
        "outputId": "c7291a42-31d8-4a81-a96b-9d52f446afeb"
      },
      "outputs": [
        {
          "data": {
            "text/plain": [
              "1"
            ]
          },
          "execution_count": 6,
          "metadata": {},
          "output_type": "execute_result"
        }
      ],
      "source": [
        "a.ndim #how many dimension of array"
      ]
    },
    {
      "cell_type": "code",
      "execution_count": null,
      "metadata": {
        "colab": {
          "base_uri": "https://localhost:8080/"
        },
        "id": "Q8SkmqAcSmea",
        "outputId": "d278e524-4824-4ced-8e88-13731faa8e55"
      },
      "outputs": [
        {
          "data": {
            "text/plain": [
              "dtype('int64')"
            ]
          },
          "execution_count": 7,
          "metadata": {},
          "output_type": "execute_result"
        }
      ],
      "source": [
        "a.dtype"
      ]
    },
    {
      "cell_type": "code",
      "execution_count": null,
      "metadata": {
        "colab": {
          "base_uri": "https://localhost:8080/"
        },
        "id": "ElHaMtXnSsSL",
        "outputId": "d2120917-cea2-4328-cc93-c8a9cb674b7d"
      },
      "outputs": [
        {
          "data": {
            "text/plain": [
              "(9,)"
            ]
          },
          "execution_count": 8,
          "metadata": {},
          "output_type": "execute_result"
        }
      ],
      "source": [
        "a.shape #how many element and size of array"
      ]
    },
    {
      "cell_type": "code",
      "execution_count": null,
      "metadata": {
        "id": "Tk3ps1lES-WT"
      },
      "outputs": [],
      "source": [
        "a1 = np.array([12,5,7,13,6,9,15,2,1],dtype='int32')\n"
      ]
    },
    {
      "cell_type": "code",
      "execution_count": null,
      "metadata": {
        "colab": {
          "base_uri": "https://localhost:8080/"
        },
        "id": "glI5vXgPTt7S",
        "outputId": "3edb6a66-cf26-4171-ee91-cc2ab0cfd2f4"
      },
      "outputs": [
        {
          "data": {
            "text/plain": [
              "dtype('int32')"
            ]
          },
          "execution_count": 10,
          "metadata": {},
          "output_type": "execute_result"
        }
      ],
      "source": [
        "a1.dtype"
      ]
    },
    {
      "cell_type": "code",
      "execution_count": null,
      "metadata": {
        "id": "vdGbWmocT1fw"
      },
      "outputs": [],
      "source": [
        "a1 = np.array([12,5,7,13,6,9,15,2,1],dtype=np.int32)"
      ]
    },
    {
      "cell_type": "code",
      "execution_count": null,
      "metadata": {
        "colab": {
          "base_uri": "https://localhost:8080/"
        },
        "id": "N71lCdDqU-Ob",
        "outputId": "e70da511-4e7b-4ad8-ddd4-35ad04643332"
      },
      "outputs": [
        {
          "data": {
            "text/plain": [
              "dtype('int32')"
            ]
          },
          "execution_count": 12,
          "metadata": {},
          "output_type": "execute_result"
        }
      ],
      "source": [
        "a1.dtype"
      ]
    },
    {
      "cell_type": "code",
      "execution_count": null,
      "metadata": {
        "id": "CP-kMbu1VBqQ"
      },
      "outputs": [],
      "source": [
        "a2 = a1.astype(np.int32)"
      ]
    },
    {
      "cell_type": "code",
      "execution_count": null,
      "metadata": {
        "colab": {
          "base_uri": "https://localhost:8080/"
        },
        "id": "UaLiFNnbVOCh",
        "outputId": "e6308cbe-5060-4836-adcc-df1187e643f8"
      },
      "outputs": [
        {
          "data": {
            "text/plain": [
              "dtype('int32')"
            ]
          },
          "execution_count": 14,
          "metadata": {},
          "output_type": "execute_result"
        }
      ],
      "source": [
        "a2.dtype"
      ]
    },
    {
      "cell_type": "code",
      "execution_count": null,
      "metadata": {
        "colab": {
          "base_uri": "https://localhost:8080/"
        },
        "id": "TeXcKD7LVSJB",
        "outputId": "51e251b0-3c0e-4cfb-b79f-bd949f6d5d35"
      },
      "outputs": [
        {
          "data": {
            "text/plain": [
              "array([12,  5,  7, 13,  6,  9, 15,  2,  1], dtype=int32)"
            ]
          },
          "execution_count": 15,
          "metadata": {},
          "output_type": "execute_result"
        }
      ],
      "source": [
        "a2"
      ]
    },
    {
      "cell_type": "code",
      "execution_count": null,
      "metadata": {
        "colab": {
          "base_uri": "https://localhost:8080/"
        },
        "id": "kJbvNyZWVTmJ",
        "outputId": "3be37830-64e5-42cc-c672-59b1ed60f706"
      },
      "outputs": [
        {
          "data": {
            "text/plain": [
              "1"
            ]
          },
          "execution_count": 16,
          "metadata": {},
          "output_type": "execute_result"
        }
      ],
      "source": [
        "a2[-1]"
      ]
    },
    {
      "cell_type": "code",
      "execution_count": null,
      "metadata": {
        "colab": {
          "base_uri": "https://localhost:8080/"
        },
        "id": "NRNfYDN1VZbp",
        "outputId": "2b407012-b34b-42f8-e8f8-d0a36e3e069d"
      },
      "outputs": [
        {
          "data": {
            "text/plain": [
              "1"
            ]
          },
          "execution_count": 17,
          "metadata": {},
          "output_type": "execute_result"
        }
      ],
      "source": [
        "a2[len(a2)-1]"
      ]
    },
    {
      "cell_type": "code",
      "execution_count": null,
      "metadata": {
        "colab": {
          "base_uri": "https://localhost:8080/"
        },
        "id": "rQ2L_P1MV56R",
        "outputId": "336a1a97-f345-45de-fea2-3ac879c47664"
      },
      "outputs": [
        {
          "data": {
            "text/plain": [
              "array([ 7, 13,  6,  9], dtype=int32)"
            ]
          },
          "execution_count": 18,
          "metadata": {},
          "output_type": "execute_result"
        }
      ],
      "source": [
        "a2[2:6] #slicing ; common diff 1 thake\n"
      ]
    },
    {
      "cell_type": "code",
      "execution_count": null,
      "metadata": {
        "colab": {
          "base_uri": "https://localhost:8080/"
        },
        "id": "60GtscbeWGwp",
        "outputId": "21b4410b-dadb-465f-e2b9-edbe7bec338b"
      },
      "outputs": [
        {
          "data": {
            "text/plain": [
              "array([ 7, 13,  6,  9, 15,  2,  1], dtype=int32)"
            ]
          },
          "execution_count": 19,
          "metadata": {},
          "output_type": "execute_result"
        }
      ],
      "source": [
        "a2[2:]"
      ]
    },
    {
      "cell_type": "code",
      "execution_count": null,
      "metadata": {
        "colab": {
          "base_uri": "https://localhost:8080/"
        },
        "id": "wInJeBbmWgUh",
        "outputId": "e95ac3f8-acef-49d7-f58c-8ea0b99cf6da"
      },
      "outputs": [
        {
          "data": {
            "text/plain": [
              "array([12,  5,  7, 13,  6,  9, 15,  2,  1], dtype=int32)"
            ]
          },
          "execution_count": 20,
          "metadata": {},
          "output_type": "execute_result"
        }
      ],
      "source": [
        "a2[:]"
      ]
    },
    {
      "cell_type": "code",
      "execution_count": null,
      "metadata": {
        "colab": {
          "base_uri": "https://localhost:8080/"
        },
        "id": "9YSi5Qk0WngR",
        "outputId": "0feb1dd0-01b5-41ff-994e-08ada0517293"
      },
      "outputs": [
        {
          "data": {
            "text/plain": [
              "array([ 5, 13,  9], dtype=int32)"
            ]
          },
          "execution_count": 21,
          "metadata": {},
          "output_type": "execute_result"
        }
      ],
      "source": [
        "a2[1:7:2]"
      ]
    },
    {
      "cell_type": "code",
      "execution_count": null,
      "metadata": {
        "colab": {
          "base_uri": "https://localhost:8080/"
        },
        "id": "xYgep31lWq9B",
        "outputId": "c4b651f2-09bf-4f97-ca96-24251473658a"
      },
      "outputs": [
        {
          "data": {
            "text/plain": [
              "array([12,  7,  6, 15,  1], dtype=int32)"
            ]
          },
          "execution_count": 22,
          "metadata": {},
          "output_type": "execute_result"
        }
      ],
      "source": [
        "a2[::2]"
      ]
    },
    {
      "cell_type": "code",
      "execution_count": null,
      "metadata": {
        "colab": {
          "base_uri": "https://localhost:8080/"
        },
        "id": "DN2Zw4OfXDXn",
        "outputId": "8443a9e1-790d-4c36-dfc5-df98e047ac5a"
      },
      "outputs": [
        {
          "data": {
            "text/plain": [
              "array([12,  7,  6, 15,  1], dtype=int32)"
            ]
          },
          "execution_count": 23,
          "metadata": {},
          "output_type": "execute_result"
        }
      ],
      "source": [
        "a2[0:len(a2):2]"
      ]
    },
    {
      "cell_type": "code",
      "execution_count": null,
      "metadata": {
        "colab": {
          "base_uri": "https://localhost:8080/"
        },
        "id": "LbYFR6UOXAIA",
        "outputId": "18194b2f-7180-40ae-9520-4aeb1f68be41"
      },
      "outputs": [
        {
          "data": {
            "text/plain": [
              "array([ 1,  2, 15,  9,  6, 13,  7,  5, 12], dtype=int32)"
            ]
          },
          "execution_count": 24,
          "metadata": {},
          "output_type": "execute_result"
        }
      ],
      "source": [
        "a2[::-1]"
      ]
    },
    {
      "cell_type": "code",
      "execution_count": null,
      "metadata": {
        "colab": {
          "base_uri": "https://localhost:8080/"
        },
        "id": "MNcE2VW3XzrH",
        "outputId": "e5cf78a7-8ea8-45a3-a036-97391c3ece5a"
      },
      "outputs": [
        {
          "data": {
            "text/plain": [
              "array([], dtype=int32)"
            ]
          },
          "execution_count": 25,
          "metadata": {},
          "output_type": "execute_result"
        }
      ],
      "source": [
        "a2[0:len(a2):-1]"
      ]
    },
    {
      "cell_type": "code",
      "execution_count": null,
      "metadata": {
        "colab": {
          "base_uri": "https://localhost:8080/"
        },
        "id": "axitZSP2X4un",
        "outputId": "d1012c7a-17eb-430d-90df-34aeb97db5f4"
      },
      "outputs": [
        {
          "data": {
            "text/plain": [
              "array([ 1,  2, 15,  9,  6, 13,  7,  5, 12], dtype=int32)"
            ]
          },
          "execution_count": 26,
          "metadata": {},
          "output_type": "execute_result"
        }
      ],
      "source": [
        "a2[-1:-len(a2)-1:-1]"
      ]
    },
    {
      "cell_type": "code",
      "execution_count": null,
      "metadata": {
        "colab": {
          "base_uri": "https://localhost:8080/"
        },
        "id": "9f2QE-Ycllyc",
        "outputId": "9907c4f2-e044-4765-b303-07970545c282"
      },
      "outputs": [
        {
          "data": {
            "text/plain": [
              "array([ 5, 13, 15], dtype=int32)"
            ]
          },
          "execution_count": 27,
          "metadata": {},
          "output_type": "execute_result"
        }
      ],
      "source": [
        "a2[[1,3,6]] #special indexing"
      ]
    },
    {
      "cell_type": "code",
      "execution_count": null,
      "metadata": {
        "colab": {
          "base_uri": "https://localhost:8080/"
        },
        "id": "lqRr8cV-l1jy",
        "outputId": "6c9b3e4a-0315-4d43-a4b0-f987fa27c619"
      },
      "outputs": [
        {
          "data": {
            "text/plain": [
              "array([13,  5, 15], dtype=int32)"
            ]
          },
          "execution_count": 28,
          "metadata": {},
          "output_type": "execute_result"
        }
      ],
      "source": [
        "a2[[3,1,6]]"
      ]
    },
    {
      "cell_type": "code",
      "execution_count": null,
      "metadata": {
        "id": "KgxBG-JxmGiq"
      },
      "outputs": [],
      "source": [
        "a3 = np.random.randint(1,100,10)"
      ]
    },
    {
      "cell_type": "code",
      "execution_count": null,
      "metadata": {
        "colab": {
          "base_uri": "https://localhost:8080/"
        },
        "id": "bzc1_WxAmuzq",
        "outputId": "fffa1028-985c-4042-90ef-06cfffcba000"
      },
      "outputs": [
        {
          "data": {
            "text/plain": [
              "array([33, 62, 66, 21, 12, 64, 73, 64, 60, 25])"
            ]
          },
          "execution_count": 30,
          "metadata": {},
          "output_type": "execute_result"
        }
      ],
      "source": [
        "a3"
      ]
    },
    {
      "cell_type": "code",
      "execution_count": null,
      "metadata": {
        "colab": {
          "base_uri": "https://localhost:8080/"
        },
        "id": "NqyXsmxTmx9B",
        "outputId": "51173160-c156-49a3-bb0f-11a354fe97e3"
      },
      "outputs": [
        {
          "data": {
            "text/plain": [
              "array([62, 66, 64, 73, 64, 60])"
            ]
          },
          "execution_count": 31,
          "metadata": {},
          "output_type": "execute_result"
        }
      ],
      "source": [
        "a3[a3>=50]"
      ]
    },
    {
      "cell_type": "code",
      "execution_count": null,
      "metadata": {
        "colab": {
          "base_uri": "https://localhost:8080/"
        },
        "id": "O5DBY-o0m2Ep",
        "outputId": "85dca4fb-0f27-44b4-d85c-2b7aaa3cc545"
      },
      "outputs": [
        {
          "data": {
            "text/plain": [
              "array([False,  True,  True, False, False,  True,  True,  True,  True,\n",
              "       False])"
            ]
          },
          "execution_count": 32,
          "metadata": {},
          "output_type": "execute_result"
        }
      ],
      "source": [
        "a3>=50"
      ]
    },
    {
      "cell_type": "code",
      "execution_count": null,
      "metadata": {
        "colab": {
          "base_uri": "https://localhost:8080/"
        },
        "id": "6F0IT81UnK_J",
        "outputId": "69a9c8e7-52ca-4c67-de99-0ce0e369d96f"
      },
      "outputs": [
        {
          "data": {
            "text/plain": [
              "array([62, 66, 64, 73, 64, 60])"
            ]
          },
          "execution_count": 33,
          "metadata": {},
          "output_type": "execute_result"
        }
      ],
      "source": [
        "a3[[False,  True,  True, False, False,  True,  True,  True,  True,\n",
        "       False]]"
      ]
    },
    {
      "cell_type": "code",
      "execution_count": null,
      "metadata": {
        "colab": {
          "base_uri": "https://localhost:8080/"
        },
        "id": "kfHdhgjonTwp",
        "outputId": "be446713-333b-4bc1-a572-494570965cac"
      },
      "outputs": [
        {
          "data": {
            "text/plain": [
              "array([60])"
            ]
          },
          "execution_count": 36,
          "metadata": {},
          "output_type": "execute_result"
        }
      ],
      "source": [
        "a3[(a3>=40) & (a3<=60)]"
      ]
    },
    {
      "cell_type": "code",
      "execution_count": null,
      "metadata": {
        "colab": {
          "base_uri": "https://localhost:8080/"
        },
        "id": "jTqfgVO_n0eS",
        "outputId": "c623a045-a1be-4c9e-bf5a-96d8628b6084"
      },
      "outputs": [
        {
          "data": {
            "text/plain": [
              "array([33, 62, 66, 21, 12, 64, 73, 64, 60, 25])"
            ]
          },
          "execution_count": 37,
          "metadata": {},
          "output_type": "execute_result"
        }
      ],
      "source": [
        "a3[(a3<=40) | (a3>=60)]"
      ]
    },
    {
      "cell_type": "code",
      "execution_count": null,
      "metadata": {
        "colab": {
          "base_uri": "https://localhost:8080/"
        },
        "id": "dOwsU__hobN5",
        "outputId": "7a64c53a-f094-43ba-93e6-2883a4b4cd84"
      },
      "outputs": [
        {
          "data": {
            "text/plain": [
              "array([33, 62, 66, 21, 12, 64, 73, 64, 25])"
            ]
          },
          "execution_count": 39,
          "metadata": {},
          "output_type": "execute_result"
        }
      ],
      "source": [
        "a3[~((a3>=40) & (a3<=60))] # ~ this is the not opparatar in numpy"
      ]
    },
    {
      "cell_type": "code",
      "execution_count": null,
      "metadata": {
        "id": "ohF-_a6_opro"
      },
      "outputs": [],
      "source": [
        "a4 = np.random.randint(1,100,10)\n",
        "a5 = np.random.randint(1,100,10)"
      ]
    },
    {
      "cell_type": "code",
      "execution_count": null,
      "metadata": {
        "colab": {
          "base_uri": "https://localhost:8080/"
        },
        "id": "4YKKPqqSpJ7p",
        "outputId": "aa45cc80-9f10-49fb-cbd8-f8d8a9a43937"
      },
      "outputs": [
        {
          "data": {
            "text/plain": [
              "array([99, 58, 43, 84, 94, 90, 17, 21, 49,  5])"
            ]
          },
          "execution_count": 41,
          "metadata": {},
          "output_type": "execute_result"
        }
      ],
      "source": [
        "a4"
      ]
    },
    {
      "cell_type": "code",
      "execution_count": null,
      "metadata": {
        "colab": {
          "base_uri": "https://localhost:8080/"
        },
        "id": "do9CZbkypLqo",
        "outputId": "3b089a02-05ce-400c-c849-413b38876c33"
      },
      "outputs": [
        {
          "data": {
            "text/plain": [
              "array([78, 35, 49, 10, 91, 30, 81, 20, 62,  5])"
            ]
          },
          "execution_count": 42,
          "metadata": {},
          "output_type": "execute_result"
        }
      ],
      "source": [
        "a5"
      ]
    },
    {
      "cell_type": "code",
      "execution_count": null,
      "metadata": {
        "id": "XAI0NX_lpMnQ"
      },
      "outputs": [],
      "source": [
        "a6= a4+a5"
      ]
    },
    {
      "cell_type": "code",
      "execution_count": null,
      "metadata": {
        "colab": {
          "base_uri": "https://localhost:8080/"
        },
        "id": "MpAZ0drPpPF4",
        "outputId": "756e4186-38f5-4b57-9f3f-d5818a1da355"
      },
      "outputs": [
        {
          "data": {
            "text/plain": [
              "array([177,  93,  92,  94, 185, 120,  98,  41, 111,  10])"
            ]
          },
          "execution_count": 44,
          "metadata": {},
          "output_type": "execute_result"
        }
      ],
      "source": [
        "a6"
      ]
    },
    {
      "cell_type": "code",
      "execution_count": null,
      "metadata": {
        "colab": {
          "base_uri": "https://localhost:8080/"
        },
        "id": "f1Zh3BLOpRTY",
        "outputId": "a49deb70-dae2-4321-fa7e-7924c45f790b"
      },
      "outputs": [
        {
          "data": {
            "text/plain": [
              "array([ 0.87758979, -0.94828214, -0.77946607, -0.24525199,  0.34662118,\n",
              "        0.58061118, -0.57338187, -0.15862267, -0.86455145, -0.54402111])"
            ]
          },
          "execution_count": 45,
          "metadata": {},
          "output_type": "execute_result"
        }
      ],
      "source": [
        "np.sin(a6) #universal function :=ufunc"
      ]
    },
    {
      "cell_type": "code",
      "execution_count": null,
      "metadata": {
        "colab": {
          "base_uri": "https://localhost:8080/"
        },
        "id": "lO4X3d8gqkJ5",
        "outputId": "c9a2c5eb-8de4-4974-895f-441d01d19ac5"
      },
      "outputs": [
        {
          "data": {
            "text/plain": [
              "array([2.24797327, 1.96848295, 1.96378783, 1.97312785, 2.26717173,\n",
              "       2.07918125, 1.99122608, 1.61278386, 2.04532298, 1.        ])"
            ]
          },
          "execution_count": 46,
          "metadata": {},
          "output_type": "execute_result"
        }
      ],
      "source": [
        "np.log10(a6)"
      ]
    },
    {
      "cell_type": "code",
      "execution_count": null,
      "metadata": {
        "colab": {
          "base_uri": "https://localhost:8080/"
        },
        "id": "hrJXfgKzqxIY",
        "outputId": "610f278f-9d17-414b-afef-3ac1a114ade6"
      },
      "outputs": [
        {
          "data": {
            "text/plain": [
              "1021"
            ]
          },
          "execution_count": 47,
          "metadata": {},
          "output_type": "execute_result"
        }
      ],
      "source": [
        "a6.sum()"
      ]
    },
    {
      "cell_type": "code",
      "execution_count": null,
      "metadata": {
        "id": "MsqGnJfQq9kP"
      },
      "outputs": [],
      "source": [
        "a6 +=10 # Broadcasting"
      ]
    },
    {
      "cell_type": "code",
      "execution_count": null,
      "metadata": {
        "colab": {
          "base_uri": "https://localhost:8080/"
        },
        "id": "bzHEK4RdrGgg",
        "outputId": "8cbb8f67-fc19-4207-cb8d-fc6ccfa96874"
      },
      "outputs": [
        {
          "data": {
            "text/plain": [
              "array([197, 113, 112, 114, 205, 140, 118,  61, 131,  30])"
            ]
          },
          "execution_count": 50,
          "metadata": {},
          "output_type": "execute_result"
        }
      ],
      "source": [
        "a6"
      ]
    },
    {
      "cell_type": "markdown",
      "metadata": {
        "id": "CWJehZN6rNMI"
      },
      "source": [
        "#Tow D arrays\n"
      ]
    },
    {
      "cell_type": "code",
      "execution_count": null,
      "metadata": {
        "id": "2-z4b1OMrdfg"
      },
      "outputs": [],
      "source": [
        "b = np.array([[1,2,3],[4,5,6],[7,8,9]]) # 2d array"
      ]
    },
    {
      "cell_type": "code",
      "execution_count": null,
      "metadata": {
        "colab": {
          "base_uri": "https://localhost:8080/"
        },
        "id": "MCp3sORhrg8Q",
        "outputId": "4d43a07d-5309-4ab1-bc63-adb5c241064b"
      },
      "outputs": [
        {
          "data": {
            "text/plain": [
              "array([[1, 2, 3],\n",
              "       [4, 5, 6],\n",
              "       [7, 8, 9]])"
            ]
          },
          "execution_count": 54,
          "metadata": {},
          "output_type": "execute_result"
        }
      ],
      "source": [
        "b"
      ]
    },
    {
      "cell_type": "code",
      "execution_count": null,
      "metadata": {
        "colab": {
          "base_uri": "https://localhost:8080/"
        },
        "id": "BrAZ6dMzrq6I",
        "outputId": "03a57b1a-b119-443d-dccb-015b8d9077a0"
      },
      "outputs": [
        {
          "data": {
            "text/plain": [
              "2"
            ]
          },
          "execution_count": 55,
          "metadata": {},
          "output_type": "execute_result"
        }
      ],
      "source": [
        "b.ndim"
      ]
    },
    {
      "cell_type": "code",
      "execution_count": null,
      "metadata": {
        "colab": {
          "base_uri": "https://localhost:8080/"
        },
        "id": "XJs1MFVlrxhw",
        "outputId": "2154783f-2cc6-4872-a294-3c12efb17485"
      },
      "outputs": [
        {
          "data": {
            "text/plain": [
              "(3, 3)"
            ]
          },
          "execution_count": 56,
          "metadata": {},
          "output_type": "execute_result"
        }
      ],
      "source": [
        "b.shape"
      ]
    },
    {
      "cell_type": "code",
      "execution_count": null,
      "metadata": {
        "id": "qAVXmEPLr0bI"
      },
      "outputs": [],
      "source": [
        "a7 = np.arange(1,13)"
      ]
    },
    {
      "cell_type": "code",
      "execution_count": null,
      "metadata": {
        "colab": {
          "base_uri": "https://localhost:8080/"
        },
        "id": "6FV0eHgHr5jf",
        "outputId": "39092299-72fb-416c-8ab0-7b49a73a310a"
      },
      "outputs": [
        {
          "data": {
            "text/plain": [
              "array([ 1,  2,  3,  4,  5,  6,  7,  8,  9, 10, 11, 12])"
            ]
          },
          "execution_count": 58,
          "metadata": {},
          "output_type": "execute_result"
        }
      ],
      "source": [
        "a7"
      ]
    },
    {
      "cell_type": "code",
      "execution_count": null,
      "metadata": {
        "id": "YsUXfO_rr9IP"
      },
      "outputs": [],
      "source": [
        "b1= a7.reshape(3,4)"
      ]
    },
    {
      "cell_type": "code",
      "execution_count": null,
      "metadata": {
        "colab": {
          "base_uri": "https://localhost:8080/"
        },
        "id": "sJvUKVCHsDZH",
        "outputId": "b5e02827-0e85-4529-c569-20955f37601e"
      },
      "outputs": [
        {
          "data": {
            "text/plain": [
              "array([[ 1,  2,  3,  4],\n",
              "       [ 5,  6,  7,  8],\n",
              "       [ 9, 10, 11, 12]])"
            ]
          },
          "execution_count": 60,
          "metadata": {},
          "output_type": "execute_result"
        }
      ],
      "source": [
        "b1"
      ]
    },
    {
      "cell_type": "code",
      "execution_count": null,
      "metadata": {
        "id": "B6UxWpu7sEdv"
      },
      "outputs": [],
      "source": [
        "b2= a7.reshape(3,-1)"
      ]
    },
    {
      "cell_type": "code",
      "execution_count": null,
      "metadata": {
        "colab": {
          "base_uri": "https://localhost:8080/"
        },
        "id": "BFEw_nqFsVIv",
        "outputId": "627bcf5e-a9ce-4057-dc2c-62b7e6b3fba5"
      },
      "outputs": [
        {
          "data": {
            "text/plain": [
              "array([[ 1,  2,  3,  4],\n",
              "       [ 5,  6,  7,  8],\n",
              "       [ 9, 10, 11, 12]])"
            ]
          },
          "execution_count": 62,
          "metadata": {},
          "output_type": "execute_result"
        }
      ],
      "source": [
        "b2"
      ]
    },
    {
      "cell_type": "code",
      "execution_count": null,
      "metadata": {
        "id": "2qZZUYSWsV6X"
      },
      "outputs": [],
      "source": [
        "b3= a7.reshape(-1,4)"
      ]
    },
    {
      "cell_type": "code",
      "execution_count": null,
      "metadata": {
        "colab": {
          "base_uri": "https://localhost:8080/"
        },
        "id": "lodu6ePYsnWf",
        "outputId": "2f77b5c1-56b5-4566-f8a1-064ae5712cc4"
      },
      "outputs": [
        {
          "data": {
            "text/plain": [
              "array([[ 1,  2,  3,  4],\n",
              "       [ 5,  6,  7,  8],\n",
              "       [ 9, 10, 11, 12]])"
            ]
          },
          "execution_count": 64,
          "metadata": {},
          "output_type": "execute_result"
        }
      ],
      "source": [
        "b3"
      ]
    },
    {
      "cell_type": "code",
      "execution_count": null,
      "metadata": {
        "colab": {
          "base_uri": "https://localhost:8080/"
        },
        "id": "J5a_E2t0soxn",
        "outputId": "49aec4fe-92fb-4a44-ceff-0e2349564a9d"
      },
      "outputs": [
        {
          "data": {
            "text/plain": [
              "array([[ 1],\n",
              "       [ 2],\n",
              "       [ 3],\n",
              "       [ 4],\n",
              "       [ 5],\n",
              "       [ 6],\n",
              "       [ 7],\n",
              "       [ 8],\n",
              "       [ 9],\n",
              "       [10],\n",
              "       [11],\n",
              "       [12]])"
            ]
          },
          "execution_count": 65,
          "metadata": {},
          "output_type": "execute_result"
        }
      ],
      "source": [
        "a7.reshape(-1,1)"
      ]
    },
    {
      "cell_type": "code",
      "execution_count": null,
      "metadata": {
        "colab": {
          "base_uri": "https://localhost:8080/"
        },
        "id": "82kHgZFstsPH",
        "outputId": "ac999d44-12fa-4fad-8da8-697e6c104fd0"
      },
      "outputs": [
        {
          "data": {
            "text/plain": [
              "array([[ 1,  2,  3,  4,  5,  6,  7,  8,  9, 10, 11, 12]])"
            ]
          },
          "execution_count": 66,
          "metadata": {},
          "output_type": "execute_result"
        }
      ],
      "source": [
        "a7.reshape(1,-1)"
      ]
    },
    {
      "cell_type": "code",
      "execution_count": null,
      "metadata": {
        "id": "kL1jhEn6t6IX"
      },
      "outputs": [],
      "source": [
        "b4 = np.random.randint(1,100,(7,8)) # aikhane 7,8 ar akti matrix creat korlam"
      ]
    },
    {
      "cell_type": "code",
      "execution_count": null,
      "metadata": {
        "colab": {
          "base_uri": "https://localhost:8080/"
        },
        "id": "7tuQSCeKvPfQ",
        "outputId": "f0f31972-1927-456b-b232-a9290523b726"
      },
      "outputs": [
        {
          "data": {
            "text/plain": [
              "array([[23, 90,  3, 66, 29, 59,  2, 25],\n",
              "       [21, 71, 73, 84, 27, 26, 48, 74],\n",
              "       [60, 81, 20, 43, 73, 98, 72, 20],\n",
              "       [86,  5, 77, 85, 19,  2, 58, 32],\n",
              "       [62, 92, 13, 60, 88, 60, 91, 22],\n",
              "       [ 5, 20, 41, 49, 66, 29, 76, 88],\n",
              "       [90, 84, 85, 39, 63, 66, 76, 99]])"
            ]
          },
          "execution_count": 69,
          "metadata": {},
          "output_type": "execute_result"
        }
      ],
      "source": [
        "b4"
      ]
    },
    {
      "cell_type": "code",
      "execution_count": null,
      "metadata": {
        "colab": {
          "base_uri": "https://localhost:8080/"
        },
        "id": "QL4W8r_5vXov",
        "outputId": "b9da7efa-cf75-42a3-f8be-5dbd1e88d911"
      },
      "outputs": [
        {
          "data": {
            "text/plain": [
              "array([60, 81, 20, 43, 73, 98, 72, 20])"
            ]
          },
          "execution_count": 70,
          "metadata": {},
          "output_type": "execute_result"
        }
      ],
      "source": [
        "b4[2] # ata row ar number dile , sei row tai show kore ;; indexing"
      ]
    },
    {
      "cell_type": "code",
      "execution_count": null,
      "metadata": {
        "colab": {
          "base_uri": "https://localhost:8080/"
        },
        "id": "yY8rQxVEwj-n",
        "outputId": "1f2ac08f-5c1c-4aa6-de97-363a1552a54d"
      },
      "outputs": [
        {
          "data": {
            "text/plain": [
              "array([[60, 81, 20, 43, 73, 98, 72, 20]])"
            ]
          },
          "execution_count": 73,
          "metadata": {},
          "output_type": "execute_result"
        }
      ],
      "source": [
        "b4[2:3] # ata slicing"
      ]
    },
    {
      "cell_type": "code",
      "execution_count": null,
      "metadata": {
        "colab": {
          "base_uri": "https://localhost:8080/"
        },
        "id": "sLiLmt_OxEcf",
        "outputId": "4f8a34d1-ae39-47db-c9e5-03e2a5b1c21b"
      },
      "outputs": [
        {
          "data": {
            "text/plain": [
              "43"
            ]
          },
          "execution_count": 74,
          "metadata": {},
          "output_type": "execute_result"
        }
      ],
      "source": [
        "b4[2][3] # ata kono row ar kono akti nidisto coloum ke ber kora jay"
      ]
    },
    {
      "cell_type": "code",
      "execution_count": null,
      "metadata": {
        "colab": {
          "base_uri": "https://localhost:8080/"
        },
        "id": "AxuiLKn7xmYO",
        "outputId": "de284f9e-d90f-41f0-eef7-a387c6deff1e"
      },
      "outputs": [
        {
          "data": {
            "text/plain": [
              "43"
            ]
          },
          "execution_count": 75,
          "metadata": {},
          "output_type": "execute_result"
        }
      ],
      "source": [
        "b4[2,3] # ata kono row ar kono akti nidisto coloum ke ber kora jay ;; atao akta process"
      ]
    },
    {
      "cell_type": "code",
      "execution_count": null,
      "metadata": {
        "colab": {
          "base_uri": "https://localhost:8080/"
        },
        "id": "N6XitqBMyBC-",
        "outputId": "1151f700-80a8-4b2c-a6af-535ccb916645"
      },
      "outputs": [
        {
          "data": {
            "text/plain": [
              "array([[21, 71, 73, 84, 27, 26, 48, 74],\n",
              "       [86,  5, 77, 85, 19,  2, 58, 32],\n",
              "       [ 5, 20, 41, 49, 66, 29, 76, 88]])"
            ]
          },
          "execution_count": 79,
          "metadata": {},
          "output_type": "execute_result"
        }
      ],
      "source": [
        "b4[1::2]"
      ]
    },
    {
      "cell_type": "code",
      "execution_count": null,
      "metadata": {
        "colab": {
          "base_uri": "https://localhost:8080/"
        },
        "id": "mhX574PTyb6m",
        "outputId": "47d883a1-58d6-43db-d6e1-26f7aff21b22"
      },
      "outputs": [
        {
          "data": {
            "text/plain": [
              "array([66, 84, 43, 85, 60, 49, 39])"
            ]
          },
          "execution_count": 82,
          "metadata": {},
          "output_type": "execute_result"
        }
      ],
      "source": [
        "b4[:,3] # coloum ber korar tecniq , kono coloum ber korte gele ai bhabe likhte hobe"
      ]
    },
    {
      "cell_type": "code",
      "execution_count": null,
      "metadata": {
        "colab": {
          "base_uri": "https://localhost:8080/"
        },
        "id": "OdpzqZDCzAiu",
        "outputId": "da754882-05ae-40b2-948a-674609115cab"
      },
      "outputs": [
        {
          "data": {
            "text/plain": [
              "array([[71, 84, 26],\n",
              "       [ 5, 85,  2]])"
            ]
          },
          "execution_count": 83,
          "metadata": {},
          "output_type": "execute_result"
        }
      ],
      "source": [
        "b4[1:4:2,1:6:2]"
      ]
    },
    {
      "cell_type": "code",
      "execution_count": null,
      "metadata": {
        "colab": {
          "base_uri": "https://localhost:8080/"
        },
        "id": "474c3cRd1ESx",
        "outputId": "5c2db9f5-61f6-457b-8dc8-7b60d97a5a20"
      },
      "outputs": [
        {
          "data": {
            "text/plain": [
              "array([[71, 84, 26],\n",
              "       [ 5, 85,  2],\n",
              "       [84, 39, 66]])"
            ]
          },
          "execution_count": 84,
          "metadata": {},
          "output_type": "execute_result"
        }
      ],
      "source": [
        "b4[[1,3,6],1:6:2] #complex slicing"
      ]
    },
    {
      "cell_type": "code",
      "execution_count": null,
      "metadata": {
        "colab": {
          "base_uri": "https://localhost:8080/"
        },
        "id": "dXj94cWA1_a3",
        "outputId": "6a0bde95-073d-4668-a481-3345d97f8f06"
      },
      "outputs": [
        {
          "data": {
            "text/plain": [
              "array([71, 58, 85])"
            ]
          },
          "execution_count": 89,
          "metadata": {},
          "output_type": "execute_result"
        }
      ],
      "source": [
        "b4[[1,3,6],[1,6,2]]"
      ]
    },
    {
      "cell_type": "code",
      "execution_count": null,
      "metadata": {
        "colab": {
          "base_uri": "https://localhost:8080/"
        },
        "id": "K-6bpo5p2TG9",
        "outputId": "9e23c64b-eeab-4f0d-adbe-5cbfb1a6f4e9"
      },
      "outputs": [
        {
          "data": {
            "text/plain": [
              "array([[71, 48, 73],\n",
              "       [ 5, 58, 77],\n",
              "       [84, 76, 85]])"
            ]
          },
          "execution_count": 91,
          "metadata": {},
          "output_type": "execute_result"
        }
      ],
      "source": [
        "b4[[1,3,6]][:,[1,6,2]]"
      ]
    },
    {
      "cell_type": "code",
      "execution_count": null,
      "metadata": {
        "colab": {
          "base_uri": "https://localhost:8080/"
        },
        "id": "oEoakNfD4JS1",
        "outputId": "9b72e812-efcc-40f9-8773-b55aaed01b57"
      },
      "outputs": [
        {
          "data": {
            "text/plain": [
              "array([[71, 84, 48],\n",
              "       [84, 39, 76],\n",
              "       [81, 43, 72]])"
            ]
          },
          "execution_count": 92,
          "metadata": {},
          "output_type": "execute_result"
        }
      ],
      "source": [
        "b4[:,[1,3,6]][[1,6,2]]"
      ]
    },
    {
      "cell_type": "code",
      "execution_count": null,
      "metadata": {
        "id": "oJUTafzV4cZt"
      },
      "outputs": [],
      "source": [
        "b5= np.random.randint(1,100,(3,4))\n",
        "b6= np.random.randint(1,100,(3,4))"
      ]
    },
    {
      "cell_type": "code",
      "execution_count": null,
      "metadata": {
        "colab": {
          "base_uri": "https://localhost:8080/"
        },
        "id": "97zFfg_75bVE",
        "outputId": "61dd172d-9f7e-43f7-a1b2-f9b19313f928"
      },
      "outputs": [
        {
          "data": {
            "text/plain": [
              "array([[22, 59, 95, 61],\n",
              "       [61,  9, 64, 62],\n",
              "       [79, 60, 25, 83]])"
            ]
          },
          "execution_count": 95,
          "metadata": {},
          "output_type": "execute_result"
        }
      ],
      "source": [
        "b5"
      ]
    },
    {
      "cell_type": "code",
      "execution_count": null,
      "metadata": {
        "colab": {
          "base_uri": "https://localhost:8080/"
        },
        "id": "HhAcVPy15pr0",
        "outputId": "c9bcb293-a304-40ef-b6eb-60dd8b9ba096"
      },
      "outputs": [
        {
          "data": {
            "text/plain": [
              "array([[38, 13, 47, 10],\n",
              "       [60, 24, 28,  6],\n",
              "       [21, 95, 45, 65]])"
            ]
          },
          "execution_count": 96,
          "metadata": {},
          "output_type": "execute_result"
        }
      ],
      "source": [
        "b6"
      ]
    },
    {
      "cell_type": "code",
      "execution_count": null,
      "metadata": {
        "colab": {
          "base_uri": "https://localhost:8080/"
        },
        "id": "xQmDRhIB5xK8",
        "outputId": "0c8d858d-adaa-4781-9d67-18456ec4c5a5"
      },
      "outputs": [
        {
          "data": {
            "text/plain": [
              "array([[ 836,  767, 4465,  610],\n",
              "       [3660,  216, 1792,  372],\n",
              "       [1659, 5700, 1125, 5395]])"
            ]
          },
          "execution_count": 97,
          "metadata": {},
          "output_type": "execute_result"
        }
      ],
      "source": [
        "b5*b6"
      ]
    },
    {
      "cell_type": "code",
      "execution_count": null,
      "metadata": {
        "id": "zZdNIAXc50nd"
      },
      "outputs": [],
      "source": [
        "b7= np.random.randint(1,100,(3,4))\n",
        "b8= np.random.randint(1,100,(4,3))"
      ]
    },
    {
      "cell_type": "code",
      "execution_count": null,
      "metadata": {
        "colab": {
          "base_uri": "https://localhost:8080/"
        },
        "id": "oIm1Oiyi6HKN",
        "outputId": "9a444a69-cf4d-4d48-f25b-6d32ce38ecdd"
      },
      "outputs": [
        {
          "data": {
            "text/plain": [
              "array([[ 8432, 13202,  7816],\n",
              "       [10524, 17338,  9726],\n",
              "       [15598, 20733,  9695]])"
            ]
          },
          "execution_count": 100,
          "metadata": {},
          "output_type": "execute_result"
        }
      ],
      "source": [
        "b7.dot(b8)"
      ]
    },
    {
      "cell_type": "code",
      "execution_count": null,
      "metadata": {
        "colab": {
          "base_uri": "https://localhost:8080/"
        },
        "id": "1wADEkuH6L69",
        "outputId": "952a2898-3661-4e4d-daa5-379d8ec8f197"
      },
      "outputs": [
        {
          "data": {
            "text/plain": [
              "array([[ 8432, 13202,  7816],\n",
              "       [10524, 17338,  9726],\n",
              "       [15598, 20733,  9695]])"
            ]
          },
          "execution_count": 101,
          "metadata": {},
          "output_type": "execute_result"
        }
      ],
      "source": [
        "np.dot(b7,b8)"
      ]
    },
    {
      "cell_type": "code",
      "execution_count": null,
      "metadata": {
        "colab": {
          "base_uri": "https://localhost:8080/"
        },
        "id": "kjawvCu16UOM",
        "outputId": "38974066-fa1f-42c1-c395-9a0445f5cf38"
      },
      "outputs": [
        {
          "data": {
            "text/plain": [
              "array([[ 8432, 13202,  7816],\n",
              "       [10524, 17338,  9726],\n",
              "       [15598, 20733,  9695]])"
            ]
          },
          "execution_count": 102,
          "metadata": {},
          "output_type": "execute_result"
        }
      ],
      "source": [
        "b7@b8"
      ]
    },
    {
      "cell_type": "code",
      "execution_count": null,
      "metadata": {
        "id": "Y5SaSJHM9J-i"
      },
      "outputs": [],
      "source": [
        "b9= np.random.randint(1,10,(5,4))\n",
        "b10= np.random.randint(1,10,(3,4))"
      ]
    },
    {
      "cell_type": "code",
      "execution_count": null,
      "metadata": {
        "colab": {
          "base_uri": "https://localhost:8080/"
        },
        "id": "3Rt2Fni69W0q",
        "outputId": "57109720-01c1-4097-c69e-93b8ca5356a7"
      },
      "outputs": [
        {
          "data": {
            "text/plain": [
              "array([[9, 2, 3, 8],\n",
              "       [2, 2, 2, 1],\n",
              "       [9, 2, 8, 2],\n",
              "       [8, 2, 9, 3],\n",
              "       [2, 6, 4, 2]])"
            ]
          },
          "execution_count": 105,
          "metadata": {},
          "output_type": "execute_result"
        }
      ],
      "source": [
        "b9"
      ]
    },
    {
      "cell_type": "code",
      "execution_count": null,
      "metadata": {
        "colab": {
          "base_uri": "https://localhost:8080/"
        },
        "id": "_-o7DHtI9baT",
        "outputId": "f680033c-df87-4b70-dd72-bb88af35585a"
      },
      "outputs": [
        {
          "data": {
            "text/plain": [
              "array([[4, 9, 4, 2],\n",
              "       [4, 1, 8, 9],\n",
              "       [7, 2, 7, 2]])"
            ]
          },
          "execution_count": 106,
          "metadata": {},
          "output_type": "execute_result"
        }
      ],
      "source": [
        "b10"
      ]
    },
    {
      "cell_type": "code",
      "execution_count": null,
      "metadata": {
        "colab": {
          "base_uri": "https://localhost:8080/"
        },
        "id": "jjvj50qS6Wpk",
        "outputId": "ee1f3da1-c995-4232-a6f1-3fc5c1bb59e5"
      },
      "outputs": [
        {
          "data": {
            "text/plain": [
              "array([[9, 2, 3, 8],\n",
              "       [2, 2, 2, 1],\n",
              "       [9, 2, 8, 2],\n",
              "       [8, 2, 9, 3],\n",
              "       [2, 6, 4, 2],\n",
              "       [4, 9, 4, 2],\n",
              "       [4, 1, 8, 9],\n",
              "       [7, 2, 7, 2]])"
            ]
          },
          "execution_count": 107,
          "metadata": {},
          "output_type": "execute_result"
        }
      ],
      "source": [
        "np.vstack([b9,b10])"
      ]
    },
    {
      "cell_type": "markdown",
      "metadata": {
        "id": "tAgj6onI-eUr"
      },
      "source": [
        "#system of linear equation\n"
      ]
    },
    {
      "cell_type": "code",
      "execution_count": 39,
      "metadata": {
        "id": "K3eqDHb7_PSz"
      },
      "outputs": [],
      "source": [
        "A = np.array([[3,2,-1],[2,-2,4],[-1,0.5,-1]])\n",
        "B = np.array([1,-2,0])"
      ]
    },
    {
      "cell_type": "code",
      "execution_count": 40,
      "metadata": {
        "id": "2kYQ1ADH_0UD"
      },
      "outputs": [],
      "source": [
        "x =np.linalg.solve(A,B)"
      ]
    },
    {
      "cell_type": "code",
      "execution_count": 42,
      "metadata": {
        "colab": {
          "base_uri": "https://localhost:8080/"
        },
        "id": "AWhUbt50AQdL",
        "outputId": "2769d74e-f712-4124-93de-1882ac9d55e1"
      },
      "outputs": [
        {
          "output_type": "execute_result",
          "data": {
            "text/plain": [
              "array([ 1., -2., -2.])"
            ]
          },
          "metadata": {},
          "execution_count": 42
        }
      ],
      "source": [
        "x"
      ]
    },
    {
      "cell_type": "code",
      "execution_count": 41,
      "metadata": {
        "colab": {
          "base_uri": "https://localhost:8080/"
        },
        "id": "w9XBmm3YAR5T",
        "outputId": "1ee513e7-1ed8-4d7e-d92d-43637772cf26"
      },
      "outputs": [
        {
          "output_type": "execute_result",
          "data": {
            "text/plain": [
              "True"
            ]
          },
          "metadata": {},
          "execution_count": 41
        }
      ],
      "source": [
        "np.allclose(A@x,B)"
      ]
    },
    {
      "cell_type": "markdown",
      "source": [
        "# vectorization"
      ],
      "metadata": {
        "id": "7AZ_xyL8As1y"
      }
    },
    {
      "cell_type": "code",
      "source": [
        "a = np.random.randint(1,10,(7,8))\n"
      ],
      "metadata": {
        "id": "_cY5udE7B1Yc"
      },
      "execution_count": 43,
      "outputs": []
    },
    {
      "cell_type": "code",
      "source": [
        "def tactorial(n):\n",
        "  return 1 if n==0 else n*tactorial(n-1)"
      ],
      "metadata": {
        "id": "Xhid9rY7DKkD"
      },
      "execution_count": 45,
      "outputs": []
    },
    {
      "cell_type": "code",
      "source": [
        "tactorial(5)"
      ],
      "metadata": {
        "colab": {
          "base_uri": "https://localhost:8080/"
        },
        "id": "Ob_fKBPbDPja",
        "outputId": "33e595e0-de73-4989-be5b-acfc8f6021cb"
      },
      "execution_count": 47,
      "outputs": [
        {
          "output_type": "execute_result",
          "data": {
            "text/plain": [
              "120"
            ]
          },
          "metadata": {},
          "execution_count": 47
        }
      ]
    },
    {
      "cell_type": "code",
      "source": [
        "b = np.zeros_like(a)"
      ],
      "metadata": {
        "id": "EyTJkEpGDeKK"
      },
      "execution_count": 48,
      "outputs": []
    },
    {
      "cell_type": "code",
      "source": [
        "b"
      ],
      "metadata": {
        "colab": {
          "base_uri": "https://localhost:8080/"
        },
        "id": "HB9BSF0sEHDb",
        "outputId": "475477d2-7321-4dbe-806e-48adb6b367cf"
      },
      "execution_count": 49,
      "outputs": [
        {
          "output_type": "execute_result",
          "data": {
            "text/plain": [
              "array([[0, 0, 0, 0, 0, 0, 0, 0],\n",
              "       [0, 0, 0, 0, 0, 0, 0, 0],\n",
              "       [0, 0, 0, 0, 0, 0, 0, 0],\n",
              "       [0, 0, 0, 0, 0, 0, 0, 0],\n",
              "       [0, 0, 0, 0, 0, 0, 0, 0],\n",
              "       [0, 0, 0, 0, 0, 0, 0, 0],\n",
              "       [0, 0, 0, 0, 0, 0, 0, 0]])"
            ]
          },
          "metadata": {},
          "execution_count": 49
        }
      ]
    },
    {
      "cell_type": "code",
      "source": [
        "for i in range(a.shape[0]):\n",
        "  for j in range(a.shape[1]):\n",
        "    b[i,j] = tactorial(a[i,j])"
      ],
      "metadata": {
        "id": "TcnMBCctEIRi"
      },
      "execution_count": 50,
      "outputs": []
    },
    {
      "cell_type": "code",
      "source": [
        "b"
      ],
      "metadata": {
        "colab": {
          "base_uri": "https://localhost:8080/"
        },
        "id": "eB6IaYX2ERJJ",
        "outputId": "ae4b4996-9fa4-421c-fdab-da2cdf6e9870"
      },
      "execution_count": 51,
      "outputs": [
        {
          "output_type": "execute_result",
          "data": {
            "text/plain": [
              "array([[     2,    720, 362880,     24,    120,      1,     24,      6],\n",
              "       [ 40320,      2,    120,    720,    120,      6,  40320,    720],\n",
              "       [    24,    120,    720,      1,   5040,     24,    120,    720],\n",
              "       [   720,     24,  40320,    720, 362880,    720,      1,    120],\n",
              "       [     1,  40320,      6,      6,     24,      6,      1,    120],\n",
              "       [    24,    120,      6, 362880,   5040,     24,      6,      6],\n",
              "       [    24,   5040,   5040,      1, 362880,      1,  40320,      6]])"
            ]
          },
          "metadata": {},
          "execution_count": 51
        }
      ]
    },
    {
      "cell_type": "code",
      "source": [
        "vec_fact = np.vectorize(tactorial)"
      ],
      "metadata": {
        "id": "VbiKTtvlESNa"
      },
      "execution_count": 53,
      "outputs": []
    },
    {
      "cell_type": "code",
      "source": [
        "vec_fact(a)"
      ],
      "metadata": {
        "colab": {
          "base_uri": "https://localhost:8080/"
        },
        "id": "RYjlmOQ7FkTR",
        "outputId": "b9366978-3511-4faf-f22c-3b1fa4d9bd29"
      },
      "execution_count": 54,
      "outputs": [
        {
          "output_type": "execute_result",
          "data": {
            "text/plain": [
              "array([[     2,    720, 362880,     24,    120,      1,     24,      6],\n",
              "       [ 40320,      2,    120,    720,    120,      6,  40320,    720],\n",
              "       [    24,    120,    720,      1,   5040,     24,    120,    720],\n",
              "       [   720,     24,  40320,    720, 362880,    720,      1,    120],\n",
              "       [     1,  40320,      6,      6,     24,      6,      1,    120],\n",
              "       [    24,    120,      6, 362880,   5040,     24,      6,      6],\n",
              "       [    24,   5040,   5040,      1, 362880,      1,  40320,      6]])"
            ]
          },
          "metadata": {},
          "execution_count": 54
        }
      ]
    },
    {
      "cell_type": "code",
      "source": [
        "@np.vectorize#factorial = np.vectorize(factorial)\n",
        "def factorial(n):\n",
        "  return 1 if n==0 else n*factorial(n-1)"
      ],
      "metadata": {
        "id": "sx3m-lo7Fqsx"
      },
      "execution_count": 55,
      "outputs": []
    },
    {
      "cell_type": "code",
      "source": [
        "factorial(a)"
      ],
      "metadata": {
        "colab": {
          "base_uri": "https://localhost:8080/"
        },
        "id": "MTlz3j2FGEaq",
        "outputId": "26fc61d3-67c2-4c51-8d3c-32c638b7d608"
      },
      "execution_count": 56,
      "outputs": [
        {
          "output_type": "execute_result",
          "data": {
            "text/plain": [
              "array([[     2,    720, 362880,     24,    120,      1,     24,      6],\n",
              "       [ 40320,      2,    120,    720,    120,      6,  40320,    720],\n",
              "       [    24,    120,    720,      1,   5040,     24,    120,    720],\n",
              "       [   720,     24,  40320,    720, 362880,    720,      1,    120],\n",
              "       [     1,  40320,      6,      6,     24,      6,      1,    120],\n",
              "       [    24,    120,      6, 362880,   5040,     24,      6,      6],\n",
              "       [    24,   5040,   5040,      1, 362880,      1,  40320,      6]])"
            ]
          },
          "metadata": {},
          "execution_count": 56
        }
      ]
    },
    {
      "cell_type": "code",
      "source": [],
      "metadata": {
        "id": "39YOndkhGVAB"
      },
      "execution_count": null,
      "outputs": []
    }
  ],
  "metadata": {
    "accelerator": "GPU",
    "colab": {
      "gpuType": "T4",
      "provenance": [],
      "authorship_tag": "ABX9TyN88Cax5eoVOf2rkg6BcLdj",
      "include_colab_link": true
    },
    "kernelspec": {
      "display_name": "Python 3",
      "name": "python3"
    },
    "language_info": {
      "name": "python"
    }
  },
  "nbformat": 4,
  "nbformat_minor": 0
}