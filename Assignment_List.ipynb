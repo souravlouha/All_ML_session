{
  "nbformat": 4,
  "nbformat_minor": 0,
  "metadata": {
    "colab": {
      "provenance": [],
      "authorship_tag": "ABX9TyPs55hNGNcG/DwQZ8bCWMmX",
      "include_colab_link": true
    },
    "kernelspec": {
      "name": "python3",
      "display_name": "Python 3"
    },
    "language_info": {
      "name": "python"
    }
  },
  "cells": [
    {
      "cell_type": "markdown",
      "metadata": {
        "id": "view-in-github",
        "colab_type": "text"
      },
      "source": [
        "<a href=\"https://colab.research.google.com/github/souravlouha/All_ML_session/blob/main/Assignment_List.ipynb\" target=\"_parent\"><img src=\"https://colab.research.google.com/assets/colab-badge.svg\" alt=\"Open In Colab\"/></a>"
      ]
    },
    {
      "cell_type": "markdown",
      "source": [
        "# List Creation & Indexing:\n",
        "○ Create a list of five different fruits. Print the second and last fruit from the list."
      ],
      "metadata": {
        "id": "9Z7e38se6DHk"
      }
    },
    {
      "cell_type": "code",
      "execution_count": 1,
      "metadata": {
        "id": "OcU7K1Bd5901"
      },
      "outputs": [],
      "source": [
        "# Creating a list of fruits\n",
        "fruits = ['apple', 'banana', 'orange', 'grape', 'mango']"
      ]
    },
    {
      "cell_type": "code",
      "source": [
        "# Printing the second and last fruit\n",
        "print(fruits[1])  # Second fruit (index 1)\n",
        "print(fruits[-1])  # Last fruit (index -1)"
      ],
      "metadata": {
        "colab": {
          "base_uri": "https://localhost:8080/"
        },
        "id": "Wa3MXXhn6OMy",
        "outputId": "c0ff0ffe-8637-47b0-94f3-00cd96c163de"
      },
      "execution_count": 2,
      "outputs": [
        {
          "output_type": "stream",
          "name": "stdout",
          "text": [
            "banana\n",
            "mango\n"
          ]
        }
      ]
    },
    {
      "cell_type": "markdown",
      "source": [
        "#List Slicing:\n",
        "○ Given the list numbers = [10, 20, 30, 40, 50, 60, 70, 80], print the sublist containing elements from index 2 to 5 (inclusive)."
      ],
      "metadata": {
        "id": "PmlXPqrn6Twj"
      }
    },
    {
      "cell_type": "code",
      "source": [
        "# Given list of numbers\n",
        "numbers = [10, 20, 30, 40, 50, 60, 70, 80]\n"
      ],
      "metadata": {
        "id": "MP3vbf8z6RY5"
      },
      "execution_count": 3,
      "outputs": []
    },
    {
      "cell_type": "code",
      "source": [
        "# Printing the sublist from index 2 to 5 (inclusive)\n",
        "sublist = numbers[2:6]\n",
        "print(sublist)"
      ],
      "metadata": {
        "colab": {
          "base_uri": "https://localhost:8080/"
        },
        "id": "OfY5zo-H6kBO",
        "outputId": "d0c63f6c-7924-4d1b-d158-9bd097953cdb"
      },
      "execution_count": 4,
      "outputs": [
        {
          "output_type": "stream",
          "name": "stdout",
          "text": [
            "[30, 40, 50, 60]\n"
          ]
        }
      ]
    },
    {
      "cell_type": "markdown",
      "source": [
        "# List Modification:\n",
        "○ Given the list colors = [\"red\", \"green\", \"blue\", \"yellow\"], replace \"green\" with \"black\" and add \"white\" at the end of the list."
      ],
      "metadata": {
        "id": "jZbyDkwc6psN"
      }
    },
    {
      "cell_type": "code",
      "source": [
        "# Given list of colors\n",
        "colors = [\"red\", \"green\", \"blue\", \"yellow\"]"
      ],
      "metadata": {
        "id": "jMxTulc66lRE"
      },
      "execution_count": 5,
      "outputs": []
    },
    {
      "cell_type": "code",
      "source": [
        "# Replace \"green\" with \"black\"\n",
        "colors[1] = \"black\"\n",
        "\n",
        "# Add \"white\" at the end of the list\n",
        "colors.append(\"white\")\n"
      ],
      "metadata": {
        "id": "nbel94Je7Smx"
      },
      "execution_count": 6,
      "outputs": []
    },
    {
      "cell_type": "code",
      "source": [
        "# Printing the modified list\n",
        "print(colors)\n"
      ],
      "metadata": {
        "colab": {
          "base_uri": "https://localhost:8080/"
        },
        "id": "W2hS4fbw7X3o",
        "outputId": "15458e40-cf41-442b-a0fb-37b93d49b493"
      },
      "execution_count": 7,
      "outputs": [
        {
          "output_type": "stream",
          "name": "stdout",
          "text": [
            "['red', 'black', 'blue', 'yellow', 'white']\n"
          ]
        }
      ]
    },
    {
      "cell_type": "markdown",
      "source": [
        "# List Methods (Append, Insert, Remove, Pop):\n",
        "○ Create an empty list and perform the following operations: a) Append \"Python\" and \"Java\" to the list. b) Insert \"C++\" at the beginning. c) Remove \"Java\". d) Pop the last element and print the list."
      ],
      "metadata": {
        "id": "fp_82t-A8R22"
      }
    },
    {
      "cell_type": "code",
      "source": [
        "# Create an empty list\n",
        "languages = []"
      ],
      "metadata": {
        "id": "TqGsRszy7bS1"
      },
      "execution_count": 8,
      "outputs": []
    },
    {
      "cell_type": "code",
      "source": [
        "# a) Append \"Python\" and \"Java\" to the list\n",
        "languages.append(\"Python\")\n",
        "languages.append(\"Java\")\n"
      ],
      "metadata": {
        "id": "WRQuK_k28atE"
      },
      "execution_count": 9,
      "outputs": []
    },
    {
      "cell_type": "code",
      "source": [
        "print(languages)"
      ],
      "metadata": {
        "colab": {
          "base_uri": "https://localhost:8080/"
        },
        "id": "giHpud5w8eRr",
        "outputId": "fe5bd6d7-8676-4201-e115-9c81abb4c2f4"
      },
      "execution_count": 10,
      "outputs": [
        {
          "output_type": "stream",
          "name": "stdout",
          "text": [
            "['Python', 'Java']\n"
          ]
        }
      ]
    },
    {
      "cell_type": "code",
      "source": [
        "# b) Insert \"C++\" at the beginning\n",
        "languages.insert(0, \"C++\")"
      ],
      "metadata": {
        "id": "r8KQQrQF8lEF"
      },
      "execution_count": 11,
      "outputs": []
    },
    {
      "cell_type": "code",
      "source": [
        "print(languages)"
      ],
      "metadata": {
        "colab": {
          "base_uri": "https://localhost:8080/"
        },
        "id": "aIZJVGvL8nyU",
        "outputId": "f5092323-769e-40dc-a603-845d4e20bec5"
      },
      "execution_count": 12,
      "outputs": [
        {
          "output_type": "stream",
          "name": "stdout",
          "text": [
            "['C++', 'Python', 'Java']\n"
          ]
        }
      ]
    },
    {
      "cell_type": "code",
      "source": [
        "# c) Remove \"Java\"\n",
        "languages.remove(\"Java\")"
      ],
      "metadata": {
        "id": "YOInD5jf8qwI"
      },
      "execution_count": 13,
      "outputs": []
    },
    {
      "cell_type": "code",
      "source": [
        "print(languages)"
      ],
      "metadata": {
        "colab": {
          "base_uri": "https://localhost:8080/"
        },
        "id": "UDGCpWRZ8vTw",
        "outputId": "d16f28fa-cf7c-43fa-8a8c-8a72a0c00c9f"
      },
      "execution_count": 14,
      "outputs": [
        {
          "output_type": "stream",
          "name": "stdout",
          "text": [
            "['C++', 'Python']\n"
          ]
        }
      ]
    },
    {
      "cell_type": "code",
      "source": [
        "# d) Pop the last element and print the list\n",
        "languages.pop()"
      ],
      "metadata": {
        "colab": {
          "base_uri": "https://localhost:8080/",
          "height": 35
        },
        "id": "3WqrlrQ38zmM",
        "outputId": "62876d05-aab4-40a9-e22c-0ae3693a6400"
      },
      "execution_count": 15,
      "outputs": [
        {
          "output_type": "execute_result",
          "data": {
            "text/plain": [
              "'Python'"
            ],
            "application/vnd.google.colaboratory.intrinsic+json": {
              "type": "string"
            }
          },
          "metadata": {},
          "execution_count": 15
        }
      ]
    },
    {
      "cell_type": "code",
      "source": [
        "# Print the final list\n",
        "print(languages)"
      ],
      "metadata": {
        "colab": {
          "base_uri": "https://localhost:8080/"
        },
        "id": "jZv3rV2l847g",
        "outputId": "d9916716-526a-4d07-f2d7-989d6d880936"
      },
      "execution_count": 16,
      "outputs": [
        {
          "output_type": "stream",
          "name": "stdout",
          "text": [
            "['C++']\n"
          ]
        }
      ]
    },
    {
      "cell_type": "markdown",
      "source": [
        "# List Iteration:\n",
        "○ Write a Python program to iterate over a list of numbers and print the square of each number."
      ],
      "metadata": {
        "id": "f_VYeWt09HD3"
      }
    },
    {
      "cell_type": "code",
      "source": [
        "# List of numbers\n",
        "numbers = [1, 2, 3, 4, 5]\n",
        "\n",
        "# Iterating over the list and printing the square of each number\n",
        "for number in numbers:\n",
        "    print(number ** 2)\n"
      ],
      "metadata": {
        "colab": {
          "base_uri": "https://localhost:8080/"
        },
        "id": "-9--SaVH87pl",
        "outputId": "1a50858b-6d44-4bb8-edc1-470d07851c73"
      },
      "execution_count": 17,
      "outputs": [
        {
          "output_type": "stream",
          "name": "stdout",
          "text": [
            "1\n",
            "4\n",
            "9\n",
            "16\n",
            "25\n"
          ]
        }
      ]
    },
    {
      "cell_type": "markdown",
      "source": [
        "# List Comprehension:\n",
        "○ Write a one-liner list comprehension to generate a list of squares of even numbers from 1 to 20."
      ],
      "metadata": {
        "id": "WgGdhFOX-JEl"
      }
    },
    {
      "cell_type": "code",
      "source": [
        "squares_of_even_numbers = [x ** 2 for x in range(1, 21) if x % 2 == 0]\n",
        "print(squares_of_even_numbers)\n"
      ],
      "metadata": {
        "colab": {
          "base_uri": "https://localhost:8080/"
        },
        "id": "S5Iu8DE39r7e",
        "outputId": "8b69c6b5-2ab2-4655-9059-0936c7f49011"
      },
      "execution_count": 18,
      "outputs": [
        {
          "output_type": "stream",
          "name": "stdout",
          "text": [
            "[4, 16, 36, 64, 100, 144, 196, 256, 324, 400]\n"
          ]
        }
      ]
    },
    {
      "cell_type": "markdown",
      "source": [
        "# List Sorting & Reversing:\n",
        "○ Given a list of integers [34, 12, 89, 45, 67, 23, 78], sort the list in ascending order and then reverse it."
      ],
      "metadata": {
        "id": "2K21T0wG-QSY"
      }
    },
    {
      "cell_type": "code",
      "source": [
        "# Given list of integers\n",
        "numbers = [34, 12, 89, 45, 67, 23, 78]\n",
        "\n",
        "# Sort the list in ascending order\n",
        "numbers.sort()\n",
        "\n",
        "# Reverse the list\n",
        "numbers.reverse()\n",
        "\n",
        "# Print the sorted and reversed list\n",
        "print(numbers)\n"
      ],
      "metadata": {
        "colab": {
          "base_uri": "https://localhost:8080/"
        },
        "id": "h-2R6sCQ-LGw",
        "outputId": "880d20d4-effe-44e5-b4e3-381f8e5a25c9"
      },
      "execution_count": 19,
      "outputs": [
        {
          "output_type": "stream",
          "name": "stdout",
          "text": [
            "[89, 78, 67, 45, 34, 23, 12]\n"
          ]
        }
      ]
    },
    {
      "cell_type": "markdown",
      "source": [
        "# Finding Max, Min & Sum in a List:\n",
        "○ Write a program that takes a list of numbers and prints the maximum, minimum, and sum of all numbers."
      ],
      "metadata": {
        "id": "_6Vc0Bkb-v2G"
      }
    },
    {
      "cell_type": "code",
      "source": [
        "# Given list of numbers\n",
        "numbers = [34, 12, 89, 45, 67, 23, 78]\n"
      ],
      "metadata": {
        "id": "UeXrXjYM-jJc"
      },
      "execution_count": 20,
      "outputs": []
    },
    {
      "cell_type": "code",
      "source": [
        "# Finding the maximum, minimum, and sum\n",
        "max_num = max(numbers)\n",
        "min_num = min(numbers)\n",
        "total_sum = sum(numbers)"
      ],
      "metadata": {
        "id": "-lZtEddO_BOo"
      },
      "execution_count": 22,
      "outputs": []
    },
    {
      "cell_type": "code",
      "source": [
        "# Printing the results\n",
        "print(\"Maximum:\", max_num)\n",
        "print(\"Minimum:\", min_num)\n",
        "print(\"Sum:\", total_sum)"
      ],
      "metadata": {
        "colab": {
          "base_uri": "https://localhost:8080/"
        },
        "id": "c3l8iy5Y_DD7",
        "outputId": "924844b1-1db5-4f30-8c94-6b9a9efeac5b"
      },
      "execution_count": 23,
      "outputs": [
        {
          "output_type": "stream",
          "name": "stdout",
          "text": [
            "Maximum: 89\n",
            "Minimum: 12\n",
            "Sum: 348\n"
          ]
        }
      ]
    },
    {
      "cell_type": "markdown",
      "source": [
        "# Removing Duplicates from a List:\n",
        "○ Given a list with duplicate elements [1, 2, 2, 3, 4, 4, 5, 6, 6], write a Python program to remove duplicates and return a list with unique elements (without using set)."
      ],
      "metadata": {
        "id": "zSnVHBX-_8Vv"
      }
    },
    {
      "cell_type": "code",
      "source": [
        "# Given list with duplicates\n",
        "numbers = [1, 2, 2, 3, 4, 4, 5, 6, 6]\n",
        "\n",
        "# Create an empty list to store unique elements\n",
        "unique_numbers = []\n",
        "\n",
        "# Iterate through the original list and add elements to the new list if not already present\n",
        "for number in numbers:\n",
        "    if number not in unique_numbers:\n",
        "        unique_numbers.append(number)\n",
        "\n",
        "# Print the list with unique elements\n",
        "print(unique_numbers)\n"
      ],
      "metadata": {
        "colab": {
          "base_uri": "https://localhost:8080/"
        },
        "id": "QN1Lp4K_AuLJ",
        "outputId": "f76d1c9c-6f86-4403-ec69-0b68e54e96b1"
      },
      "execution_count": 27,
      "outputs": [
        {
          "output_type": "stream",
          "name": "stdout",
          "text": [
            "[1, 2, 3, 4, 5, 6]\n"
          ]
        }
      ]
    },
    {
      "cell_type": "markdown",
      "source": [
        "# Merging and Sorting Two Lists:\n",
        "Given two sorted lists: list1 = [10, 20, 30, 40]\n",
        "list2 = [15, 25, 35, 45]\n",
        "● Merge them into a single sorted list without using the sorted() function."
      ],
      "metadata": {
        "id": "MlYW7NJkA8xt"
      }
    },
    {
      "cell_type": "code",
      "source": [
        "# Given sorted lists\n",
        "list1 = [10, 20, 30, 40]\n",
        "list2 = [15, 25, 35, 45]\n",
        "\n",
        "# Merging the two lists\n",
        "merged_list = []\n",
        "i, j = 0, 0\n",
        "\n",
        "# Traverse both lists and merge them in sorted order\n",
        "while i < len(list1) and j < len(list2):\n",
        "    if list1[i] < list2[j]:\n",
        "        merged_list.append(list1[i])\n",
        "        i += 1\n",
        "    else:\n",
        "        merged_list.append(list2[j])\n",
        "        j += 1\n",
        "\n",
        "# Append remaining elements from list1 or list2\n",
        "merged_list.extend(list1[i:])\n",
        "merged_list.extend(list2[j:])\n",
        "\n",
        "# Print the merged sorted list\n",
        "print(merged_list)\n"
      ],
      "metadata": {
        "colab": {
          "base_uri": "https://localhost:8080/"
        },
        "id": "5Ro7vPNkA1w2",
        "outputId": "c4f3952e-03b7-470a-88f1-202308c4593e"
      },
      "execution_count": 28,
      "outputs": [
        {
          "output_type": "stream",
          "name": "stdout",
          "text": [
            "[10, 15, 20, 25, 30, 35, 40, 45]\n"
          ]
        }
      ]
    },
    {
      "cell_type": "code",
      "source": [],
      "metadata": {
        "id": "gjYyVENUBaNO"
      },
      "execution_count": null,
      "outputs": []
    }
  ]
}