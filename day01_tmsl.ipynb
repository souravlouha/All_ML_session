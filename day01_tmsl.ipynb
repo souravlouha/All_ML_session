{
  "nbformat": 4,
  "nbformat_minor": 0,
  "metadata": {
    "colab": {
      "provenance": [],
      "gpuType": "T4",
      "authorship_tag": "ABX9TyPsujGjMJn6KZZLcE2fufzo",
      "include_colab_link": true
    },
    "kernelspec": {
      "name": "python3",
      "display_name": "Python 3"
    },
    "language_info": {
      "name": "python"
    },
    "accelerator": "GPU"
  },
  "cells": [
    {
      "cell_type": "markdown",
      "metadata": {
        "id": "view-in-github",
        "colab_type": "text"
      },
      "source": [
        "<a href=\"https://colab.research.google.com/github/souravlouha/All_ML_session/blob/main/day01_tmsl.ipynb\" target=\"_parent\"><img src=\"https://colab.research.google.com/assets/colab-badge.svg\" alt=\"Open In Colab\"/></a>"
      ]
    },
    {
      "cell_type": "code",
      "execution_count": 1,
      "metadata": {
        "colab": {
          "base_uri": "https://localhost:8080/"
        },
        "id": "XCMCchEcPknf",
        "outputId": "1877bd83-ae34-462b-ab7d-1af20fea0557"
      },
      "outputs": [
        {
          "output_type": "stream",
          "name": "stdout",
          "text": [
            "welcome to colab\n",
            "numpy basic\n"
          ]
        }
      ],
      "source": [
        "print(\"welcome to colab\")\n",
        "print(\"numpy basic\")"
      ]
    },
    {
      "cell_type": "code",
      "source": [
        "import numpy as np"
      ],
      "metadata": {
        "id": "xq1jqmhGP9dk"
      },
      "execution_count": 2,
      "outputs": []
    },
    {
      "cell_type": "markdown",
      "source": [
        "# Single Dimensional Array\n"
      ],
      "metadata": {
        "id": "BBeJsYVsQMw6"
      }
    },
    {
      "cell_type": "code",
      "source": [],
      "metadata": {
        "id": "krjeGDSzQ9Ik"
      },
      "execution_count": null,
      "outputs": []
    }
  ]
}