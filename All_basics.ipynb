{
  "nbformat": 4,
  "nbformat_minor": 0,
  "metadata": {
    "colab": {
      "provenance": [],
      "authorship_tag": "ABX9TyNE36/d7wjAGMTuu+YLg7ck",
      "include_colab_link": true
    },
    "kernelspec": {
      "name": "python3",
      "display_name": "Python 3"
    },
    "language_info": {
      "name": "python"
    }
  },
  "cells": [
    {
      "cell_type": "markdown",
      "metadata": {
        "id": "view-in-github",
        "colab_type": "text"
      },
      "source": [
        "<a href=\"https://colab.research.google.com/github/souravlouha/All_ML_session/blob/main/All_basics.ipynb\" target=\"_parent\"><img src=\"https://colab.research.google.com/assets/colab-badge.svg\" alt=\"Open In Colab\"/></a>"
      ]
    },
    {
      "cell_type": "markdown",
      "source": [
        "# Write a program to print the Even numbers. The range must be given by the user.\n"
      ],
      "metadata": {
        "id": "AKTS18pB_PTj"
      }
    },
    {
      "cell_type": "code",
      "source": [
        "# Taking input from the user\n",
        "start = int(input(\"Enter the starting number: \"))\n",
        "end = int(input(\"Enter the ending number: \"))\n",
        "\n",
        "\n"
      ],
      "metadata": {
        "colab": {
          "base_uri": "https://localhost:8080/"
        },
        "id": "K0iST7vVAFzk",
        "outputId": "d0d71db5-d23e-4601-b5d2-070356db5acd"
      },
      "execution_count": 5,
      "outputs": [
        {
          "name": "stdout",
          "output_type": "stream",
          "text": [
            "Enter the starting number: 45\n",
            "Enter the ending number: 91\n"
          ]
        }
      ]
    },
    {
      "cell_type": "code",
      "source": [
        "\n",
        "\n",
        "# Printing even numbers in the given range\n",
        "for num in range(start, end + 1):\n",
        "    if num % 2 == 0:\n",
        "        print(num)\n"
      ],
      "metadata": {
        "colab": {
          "base_uri": "https://localhost:8080/"
        },
        "id": "YWEJ3TPJAINM",
        "outputId": "44507c7c-73d3-4927-e194-3ddd58d3c31b"
      },
      "execution_count": 6,
      "outputs": [
        {
          "output_type": "stream",
          "name": "stdout",
          "text": [
            "46\n",
            "48\n",
            "50\n",
            "52\n",
            "54\n",
            "56\n",
            "58\n",
            "60\n",
            "62\n",
            "64\n",
            "66\n",
            "68\n",
            "70\n",
            "72\n",
            "74\n",
            "76\n",
            "78\n",
            "80\n",
            "82\n",
            "84\n",
            "86\n",
            "88\n",
            "90\n"
          ]
        }
      ]
    },
    {
      "cell_type": "markdown",
      "source": [
        "# Write a program to find the factorial of  N number by taking user input."
      ],
      "metadata": {
        "id": "qk6othqWAqPL"
      }
    },
    {
      "cell_type": "code",
      "source": [
        "# Taking input from the user\n",
        "n = int(input(\"Enter a number: \"))\n",
        "\n",
        "\n"
      ],
      "metadata": {
        "colab": {
          "base_uri": "https://localhost:8080/"
        },
        "id": "Cm5qTSL-ANRP",
        "outputId": "1fc73d84-9b89-4442-f197-bf80036ccef6"
      },
      "execution_count": 7,
      "outputs": [
        {
          "name": "stdout",
          "output_type": "stream",
          "text": [
            "Enter a number: 8\n"
          ]
        }
      ]
    },
    {
      "cell_type": "code",
      "source": [
        "\n",
        "\n",
        "# Calculate factorial using a simple loop\n",
        "factorial = 1\n",
        "for i in range(1, n + 1):\n",
        "    factorial *= i\n",
        "\n",
        "\n"
      ],
      "metadata": {
        "id": "flHCLzu-Au01"
      },
      "execution_count": 8,
      "outputs": []
    },
    {
      "cell_type": "code",
      "source": [
        "\n",
        "\n",
        "# Display the result\n",
        "print(factorial)\n"
      ],
      "metadata": {
        "colab": {
          "base_uri": "https://localhost:8080/"
        },
        "id": "SMstD_mjAz6u",
        "outputId": "faff0b0c-2d10-400e-adad-861300286ee2"
      },
      "execution_count": 9,
      "outputs": [
        {
          "output_type": "stream",
          "name": "stdout",
          "text": [
            "40320\n"
          ]
        }
      ]
    },
    {
      "cell_type": "markdown",
      "source": [
        "# Write a program to find the Fibonacci series. The range must be given by the user."
      ],
      "metadata": {
        "id": "osBSUBn1BKqC"
      }
    },
    {
      "cell_type": "code",
      "source": [
        "# Taking input from the user for the range\n",
        "n = int(input(\"Enter the number of terms for the Fibonacci series: \"))\n",
        "\n",
        "\n"
      ],
      "metadata": {
        "colab": {
          "base_uri": "https://localhost:8080/"
        },
        "id": "V5q9krHNA2hY",
        "outputId": "c5272df5-0bd2-4fd8-9a1d-8313e5ddc283"
      },
      "execution_count": 10,
      "outputs": [
        {
          "name": "stdout",
          "output_type": "stream",
          "text": [
            "Enter the number of terms for the Fibonacci series: 5\n"
          ]
        }
      ]
    },
    {
      "cell_type": "code",
      "source": [
        "\n",
        "# Initialize the first two terms of the Fibonacci series\n",
        "a, b = 0, 1\n",
        "\n",
        "\n"
      ],
      "metadata": {
        "id": "i1YMKslnBkrC"
      },
      "execution_count": 11,
      "outputs": []
    },
    {
      "cell_type": "markdown",
      "source": [
        "What does a, b = b, a + b mean?\n",
        "This line is like swapping values, but it also calculates the next number in the Fibonacci series.\n",
        "\n",
        "Before the line:\n",
        "\n",
        "a is the current number.\n",
        "b is the next number.\n",
        "After the line:\n",
        "\n",
        "a becomes the current b (the next number).\n",
        "b becomes the sum of the current a and b (the next next number).\n",
        "Example:\n",
        "Let's say a = 0 and b = 1 at the start:\n",
        "\n",
        "First time:\n",
        "\n",
        "a, b = b, a + b → a = 1, b = 1 (since 0 + 1 = 1).\n",
        "Second time:\n",
        "\n",
        "a, b = b, a + b → a = 1, b = 2 (since 1 + 1 = 2).\n",
        "Third time:\n",
        "\n",
        "a, b = b, a + b → a = 2, b = 3 (since 1 + 2 = 3)."
      ],
      "metadata": {
        "id": "acORqkzjC2sa"
      }
    },
    {
      "cell_type": "code",
      "source": [
        "# Print the Fibonacci series\n",
        "for _ in range(n):\n",
        "    print(a)  # This will print each number on a new line\n",
        "    a, b = b, a + b"
      ],
      "metadata": {
        "colab": {
          "base_uri": "https://localhost:8080/"
        },
        "id": "Qfk9zoKQBrdS",
        "outputId": "23edae2d-c8b3-46ad-f6f9-633c3b6ccf0a"
      },
      "execution_count": 13,
      "outputs": [
        {
          "output_type": "stream",
          "name": "stdout",
          "text": [
            "5\n",
            "8\n",
            "13\n",
            "21\n",
            "34\n"
          ]
        }
      ]
    },
    {
      "cell_type": "markdown",
      "source": [
        "# Write a program to make a calculator by using  function for every case"
      ],
      "metadata": {
        "id": "LdDubG5YDmLp"
      }
    },
    {
      "cell_type": "code",
      "source": [
        "# Function to add two numbers\n",
        "def add(x, y):\n",
        "    return x + y\n",
        "\n",
        "# Function to subtract two numbers\n",
        "def subtract(x, y):\n",
        "    return x - y\n",
        "\n",
        "# Function to multiply two numbers\n",
        "def multiply(x, y):\n",
        "    return x * y\n",
        "\n",
        "# Function to divide two numbers\n",
        "def divide(x, y):\n",
        "    return x / y if y != 0 else \"Error! Division by zero.\"\n",
        "\n",
        "\n"
      ],
      "metadata": {
        "id": "oEKccgtcCuCl"
      },
      "execution_count": 14,
      "outputs": []
    },
    {
      "cell_type": "code",
      "source": [
        "\n",
        "\n",
        "# Ask user for operation choice\n",
        "print(\"Select operation:\")\n",
        "print(\"1. Add\")\n",
        "print(\"2. Subtract\")\n",
        "print(\"3. Multiply\")\n",
        "print(\"4. Divide\")\n",
        "\n",
        "# Get the user's choice and numbers\n",
        "choice = input(\"Enter choice (1/2/3/4): \")\n",
        "num1 = float(input(\"Enter first number: \"))\n",
        "num2 = float(input(\"Enter second number: \"))\n",
        "\n",
        "\n"
      ],
      "metadata": {
        "colab": {
          "base_uri": "https://localhost:8080/"
        },
        "id": "rBh5K6jyEM9u",
        "outputId": "63adbabc-0699-4568-bd2a-6a640012f94e"
      },
      "execution_count": 15,
      "outputs": [
        {
          "name": "stdout",
          "output_type": "stream",
          "text": [
            "Select operation:\n",
            "1. Add\n",
            "2. Subtract\n",
            "3. Multiply\n",
            "4. Divide\n",
            "Enter choice (1/2/3/4): 1\n",
            "Enter first number: 4\n",
            "Enter second number: 5\n"
          ]
        }
      ]
    },
    {
      "cell_type": "code",
      "source": [
        "\n",
        "\n",
        "# Perform the operation based on user input\n",
        "if choice == '1':\n",
        "    print(f\"{num1} + {num2} = {add(num1, num2)}\")\n",
        "elif choice == '2':\n",
        "    print(f\"{num1} - {num2} = {subtract(num1, num2)}\")\n",
        "elif choice == '3':\n",
        "    print(f\"{num1} * {num2} = {multiply(num1, num2)}\")\n",
        "elif choice == '4':\n",
        "    print(f\"{num1} / {num2} = {divide(num1, num2)}\")\n",
        "else:\n",
        "    print(\"Invalid input! Please choose a valid operation.\")\n"
      ],
      "metadata": {
        "colab": {
          "base_uri": "https://localhost:8080/"
        },
        "id": "CAeVf2ZRERKB",
        "outputId": "e06cad00-be84-41e1-b182-4868d2cd80a7"
      },
      "execution_count": 16,
      "outputs": [
        {
          "output_type": "stream",
          "name": "stdout",
          "text": [
            "4.0 + 5.0 = 9.0\n"
          ]
        }
      ]
    },
    {
      "cell_type": "markdown",
      "source": [
        "# Write a Python program to get the largest number from a list"
      ],
      "metadata": {
        "id": "c7Jwr3taG3iN"
      }
    },
    {
      "cell_type": "code",
      "source": [
        "numbers = []\n",
        "\n",
        "for i in range(5):\n",
        "    num = int(input(f\"Enter number {i+1}: \"))\n",
        "    numbers.append(num)"
      ],
      "metadata": {
        "colab": {
          "base_uri": "https://localhost:8080/"
        },
        "id": "DCxOSLD5EXIE",
        "outputId": "2682a4f4-beaf-4c63-905a-f5cc545b8486"
      },
      "execution_count": 19,
      "outputs": [
        {
          "name": "stdout",
          "output_type": "stream",
          "text": [
            "Enter number 1: 8\n",
            "Enter number 2: 6\n",
            "Enter number 3: 21\n",
            "Enter number 4: 57\n",
            "Enter number 5: 11\n"
          ]
        }
      ]
    },
    {
      "cell_type": "code",
      "source": [
        "# Finding the largest number\n",
        "largest_number = max(numbers)\n",
        "\n",
        "# Printing the result\n",
        "print(f\"The largest number is: {largest_number}\")"
      ],
      "metadata": {
        "colab": {
          "base_uri": "https://localhost:8080/"
        },
        "id": "LQuOBg0EGVDN",
        "outputId": "5e2361e0-30ff-44bc-fc0a-3fa201ceda3e"
      },
      "execution_count": 20,
      "outputs": [
        {
          "output_type": "stream",
          "name": "stdout",
          "text": [
            "The largest number is: 57\n"
          ]
        }
      ]
    },
    {
      "cell_type": "markdown",
      "source": [
        "#  Write a Python program to remove duplicates from a list"
      ],
      "metadata": {
        "id": "yeIjcSlwjWx_"
      }
    },
    {
      "cell_type": "code",
      "source": [
        "numbers = []\n",
        "\n",
        "for i in range(5):\n",
        "    num = int(input(f\"Enter number {i+1}: \"))\n",
        "    numbers.append(num)"
      ],
      "metadata": {
        "colab": {
          "base_uri": "https://localhost:8080/"
        },
        "id": "A-2IfADdGuNp",
        "outputId": "343c92dc-fd53-4c42-fbd1-505e318ff72b"
      },
      "execution_count": 1,
      "outputs": [
        {
          "name": "stdout",
          "output_type": "stream",
          "text": [
            "Enter number 1: 8\n",
            "Enter number 2: 9\n",
            "Enter number 3: 7\n",
            "Enter number 4: 8\n",
            "Enter number 5: 8\n"
          ]
        }
      ]
    },
    {
      "cell_type": "code",
      "source": [
        "numbers.remove(8)"
      ],
      "metadata": {
        "id": "GRFcI3khj1zt"
      },
      "execution_count": 2,
      "outputs": []
    },
    {
      "cell_type": "code",
      "source": [
        "print(numbers)"
      ],
      "metadata": {
        "colab": {
          "base_uri": "https://localhost:8080/"
        },
        "id": "BvXx1LgzkGfu",
        "outputId": "94d6aba7-b65b-4f87-8575-872d15ed3218"
      },
      "execution_count": 4,
      "outputs": [
        {
          "output_type": "stream",
          "name": "stdout",
          "text": [
            "[9, 7, 8, 8]\n"
          ]
        }
      ]
    },
    {
      "cell_type": "code",
      "source": [],
      "metadata": {
        "id": "YO-m74MAlx9R"
      },
      "execution_count": null,
      "outputs": []
    }
  ]
}